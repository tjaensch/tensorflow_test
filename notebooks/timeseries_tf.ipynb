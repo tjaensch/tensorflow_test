{
 "cells": [
  {
   "cell_type": "code",
   "execution_count": 1,
   "metadata": {},
   "outputs": [
    {
     "name": "stdout",
     "output_type": "stream",
     "text": [
      "zsh:1: command not found: nvidia-smi\n"
     ]
    }
   ],
   "source": [
    "# Check for GPU\n",
    "!nvidia-smi -L"
   ]
  },
  {
   "cell_type": "code",
   "execution_count": 2,
   "metadata": {},
   "outputs": [
    {
     "name": "stdout",
     "output_type": "stream",
     "text": [
      "--2022-06-21 09:14:51--  https://raw.githubusercontent.com/mrdbourke/tensorflow-deep-learning/main/extras/BTC_USD_2013-10-01_2021-05-18-CoinDesk.csv\n",
      "Resolving raw.githubusercontent.com (raw.githubusercontent.com)... 2606:50c0:8000::154, 2606:50c0:8001::154, 2606:50c0:8002::154, ...\n",
      "Connecting to raw.githubusercontent.com (raw.githubusercontent.com)|2606:50c0:8000::154|:443... connected.\n",
      "HTTP request sent, awaiting response... 200 OK\n",
      "Length: 178509 (174K) [text/plain]\n",
      "Saving to: ‘BTC_USD_2013-10-01_2021-05-18-CoinDesk.csv’\n",
      "\n",
      "BTC_USD_2013-10-01_ 100%[===================>] 174.33K  1.10MB/s    in 0.2s    \n",
      "\n",
      "2022-06-21 09:14:51 (1.10 MB/s) - ‘BTC_USD_2013-10-01_2021-05-18-CoinDesk.csv’ saved [178509/178509]\n",
      "\n"
     ]
    }
   ],
   "source": [
    "# Download Bitcoin historical data from GitHub \n",
    "# Note: you'll need to select \"Raw\" to download the data in the correct format\n",
    "!wget https://raw.githubusercontent.com/mrdbourke/tensorflow-deep-learning/main/extras/BTC_USD_2013-10-01_2021-05-18-CoinDesk.csv"
   ]
  },
  {
   "cell_type": "code",
   "execution_count": 5,
   "metadata": {},
   "outputs": [
    {
     "data": {
      "text/html": [
       "<div>\n",
       "<style scoped>\n",
       "    .dataframe tbody tr th:only-of-type {\n",
       "        vertical-align: middle;\n",
       "    }\n",
       "\n",
       "    .dataframe tbody tr th {\n",
       "        vertical-align: top;\n",
       "    }\n",
       "\n",
       "    .dataframe thead th {\n",
       "        text-align: right;\n",
       "    }\n",
       "</style>\n",
       "<table border=\"1\" class=\"dataframe\">\n",
       "  <thead>\n",
       "    <tr style=\"text-align: right;\">\n",
       "      <th></th>\n",
       "      <th>Currency</th>\n",
       "      <th>Closing Price (USD)</th>\n",
       "      <th>24h Open (USD)</th>\n",
       "      <th>24h High (USD)</th>\n",
       "      <th>24h Low (USD)</th>\n",
       "    </tr>\n",
       "    <tr>\n",
       "      <th>Date</th>\n",
       "      <th></th>\n",
       "      <th></th>\n",
       "      <th></th>\n",
       "      <th></th>\n",
       "      <th></th>\n",
       "    </tr>\n",
       "  </thead>\n",
       "  <tbody>\n",
       "    <tr>\n",
       "      <th>2013-10-01</th>\n",
       "      <td>BTC</td>\n",
       "      <td>123.65499</td>\n",
       "      <td>124.30466</td>\n",
       "      <td>124.75166</td>\n",
       "      <td>122.56349</td>\n",
       "    </tr>\n",
       "    <tr>\n",
       "      <th>2013-10-02</th>\n",
       "      <td>BTC</td>\n",
       "      <td>125.45500</td>\n",
       "      <td>123.65499</td>\n",
       "      <td>125.75850</td>\n",
       "      <td>123.63383</td>\n",
       "    </tr>\n",
       "    <tr>\n",
       "      <th>2013-10-03</th>\n",
       "      <td>BTC</td>\n",
       "      <td>108.58483</td>\n",
       "      <td>125.45500</td>\n",
       "      <td>125.66566</td>\n",
       "      <td>83.32833</td>\n",
       "    </tr>\n",
       "    <tr>\n",
       "      <th>2013-10-04</th>\n",
       "      <td>BTC</td>\n",
       "      <td>118.67466</td>\n",
       "      <td>108.58483</td>\n",
       "      <td>118.67500</td>\n",
       "      <td>107.05816</td>\n",
       "    </tr>\n",
       "    <tr>\n",
       "      <th>2013-10-05</th>\n",
       "      <td>BTC</td>\n",
       "      <td>121.33866</td>\n",
       "      <td>118.67466</td>\n",
       "      <td>121.93633</td>\n",
       "      <td>118.00566</td>\n",
       "    </tr>\n",
       "  </tbody>\n",
       "</table>\n",
       "</div>"
      ],
      "text/plain": [
       "           Currency  Closing Price (USD)  24h Open (USD)  24h High (USD)  \\\n",
       "Date                                                                       \n",
       "2013-10-01      BTC            123.65499       124.30466       124.75166   \n",
       "2013-10-02      BTC            125.45500       123.65499       125.75850   \n",
       "2013-10-03      BTC            108.58483       125.45500       125.66566   \n",
       "2013-10-04      BTC            118.67466       108.58483       118.67500   \n",
       "2013-10-05      BTC            121.33866       118.67466       121.93633   \n",
       "\n",
       "            24h Low (USD)  \n",
       "Date                       \n",
       "2013-10-01      122.56349  \n",
       "2013-10-02      123.63383  \n",
       "2013-10-03       83.32833  \n",
       "2013-10-04      107.05816  \n",
       "2013-10-05      118.00566  "
      ]
     },
     "execution_count": 5,
     "metadata": {},
     "output_type": "execute_result"
    }
   ],
   "source": [
    "# Import with pandas \n",
    "import pandas as pd\n",
    "# Parse dates and set date column to index\n",
    "df = pd.read_csv(\"BTC_USD_2013-10-01_2021-05-18-CoinDesk.csv\", \n",
    "                 parse_dates=[\"Date\"], \n",
    "                 index_col=[\"Date\"]) # parse the date column (tell pandas column 1 is a datetime)\n",
    "df.head()"
   ]
  },
  {
   "cell_type": "code",
   "execution_count": 6,
   "metadata": {},
   "outputs": [
    {
     "data": {
      "text/html": [
       "<div>\n",
       "<style scoped>\n",
       "    .dataframe tbody tr th:only-of-type {\n",
       "        vertical-align: middle;\n",
       "    }\n",
       "\n",
       "    .dataframe tbody tr th {\n",
       "        vertical-align: top;\n",
       "    }\n",
       "\n",
       "    .dataframe thead th {\n",
       "        text-align: right;\n",
       "    }\n",
       "</style>\n",
       "<table border=\"1\" class=\"dataframe\">\n",
       "  <thead>\n",
       "    <tr style=\"text-align: right;\">\n",
       "      <th></th>\n",
       "      <th>Price</th>\n",
       "    </tr>\n",
       "    <tr>\n",
       "      <th>Date</th>\n",
       "      <th></th>\n",
       "    </tr>\n",
       "  </thead>\n",
       "  <tbody>\n",
       "    <tr>\n",
       "      <th>2013-10-01</th>\n",
       "      <td>123.65499</td>\n",
       "    </tr>\n",
       "    <tr>\n",
       "      <th>2013-10-02</th>\n",
       "      <td>125.45500</td>\n",
       "    </tr>\n",
       "    <tr>\n",
       "      <th>2013-10-03</th>\n",
       "      <td>108.58483</td>\n",
       "    </tr>\n",
       "    <tr>\n",
       "      <th>2013-10-04</th>\n",
       "      <td>118.67466</td>\n",
       "    </tr>\n",
       "    <tr>\n",
       "      <th>2013-10-05</th>\n",
       "      <td>121.33866</td>\n",
       "    </tr>\n",
       "  </tbody>\n",
       "</table>\n",
       "</div>"
      ],
      "text/plain": [
       "                Price\n",
       "Date                 \n",
       "2013-10-01  123.65499\n",
       "2013-10-02  125.45500\n",
       "2013-10-03  108.58483\n",
       "2013-10-04  118.67466\n",
       "2013-10-05  121.33866"
      ]
     },
     "execution_count": 6,
     "metadata": {},
     "output_type": "execute_result"
    }
   ],
   "source": [
    "# Only want closing price for each day \n",
    "bitcoin_prices = pd.DataFrame(df[\"Closing Price (USD)\"]).rename(columns={\"Closing Price (USD)\": \"Price\"})\n",
    "bitcoin_prices.head()"
   ]
  },
  {
   "cell_type": "code",
   "execution_count": 7,
   "metadata": {},
   "outputs": [
    {
     "data": {
      "image/png": "[encoded data removed]",
      "text/plain": [
       "<Figure size 720x504 with 1 Axes>"
      ]
     },
     "metadata": {
      "needs_background": "light"
     },
     "output_type": "display_data"
    }
   ],
   "source": [
    "import matplotlib.pyplot as plt\n",
    "bitcoin_prices.plot(figsize=(10, 7))\n",
    "plt.ylabel(\"BTC Price\")\n",
    "plt.title(\"Price of Bitcoin from 1 Oct 2013 to 18 May 2021\", fontsize=16)\n",
    "plt.legend(fontsize=14);"
   ]
  },
  {
   "cell_type": "code",
   "execution_count": 9,
   "metadata": {},
   "outputs": [
    {
     "data": {
      "text/plain": [
       "([datetime.datetime(2013, 10, 1, 0, 0),\n",
       "  datetime.datetime(2013, 10, 2, 0, 0),\n",
       "  datetime.datetime(2013, 10, 3, 0, 0),\n",
       "  datetime.datetime(2013, 10, 4, 0, 0),\n",
       "  datetime.datetime(2013, 10, 5, 0, 0),\n",
       "  datetime.datetime(2013, 10, 6, 0, 0),\n",
       "  datetime.datetime(2013, 10, 7, 0, 0),\n",
       "  datetime.datetime(2013, 10, 8, 0, 0),\n",
       "  datetime.datetime(2013, 10, 9, 0, 0),\n",
       "  datetime.datetime(2013, 10, 10, 0, 0)],\n",
       " [123.65499,\n",
       "  125.455,\n",
       "  108.58483,\n",
       "  118.67466,\n",
       "  121.33866,\n",
       "  120.65533,\n",
       "  121.795,\n",
       "  123.033,\n",
       "  124.049,\n",
       "  125.96116])"
      ]
     },
     "execution_count": 9,
     "metadata": {},
     "output_type": "execute_result"
    }
   ],
   "source": [
    "# Importing and formatting historical Bitcoin data with Python\n",
    "import csv\n",
    "from datetime import datetime\n",
    "\n",
    "timesteps = []\n",
    "btc_price = []\n",
    "with open(\"BTC_USD_2013-10-01_2021-05-18-CoinDesk.csv\", \"r\") as f:\n",
    "  csv_reader = csv.reader(f, delimiter=\",\") # read in the target CSV\n",
    "  next(csv_reader) # skip first line (this gets rid of the column titles)\n",
    "  for line in csv_reader:\n",
    "    timesteps.append(datetime.strptime(line[1], \"%Y-%m-%d\")) # get the dates as dates (not strings), strptime = string parse time\n",
    "    btc_price.append(float(line[2])) # get the closing price as float\n",
    "\n",
    "# View first 10 of each\n",
    "timesteps[:10], btc_price[:10]"
   ]
  },
  {
   "cell_type": "code",
   "execution_count": 10,
   "metadata": {},
   "outputs": [
    {
     "data": {
      "image/png": "[encoded data removed]",
      "text/plain": [
       "<Figure size 720x504 with 1 Axes>"
      ]
     },
     "metadata": {
      "needs_background": "light"
     },
     "output_type": "display_data"
    }
   ],
   "source": [
    "# Plot from CSV\n",
    "import matplotlib.pyplot as plt\n",
    "import numpy as np\n",
    "plt.figure(figsize=(10, 7))\n",
    "plt.plot(timesteps, btc_price)\n",
    "plt.title(\"Price of Bitcoin from 1 Oct 2013 to 18 May 2021\", fontsize=16)\n",
    "plt.xlabel(\"Date\")\n",
    "plt.ylabel(\"BTC Price\");"
   ]
  },
  {
   "cell_type": "code",
   "execution_count": 12,
   "metadata": {},
   "outputs": [
    {
     "data": {
      "text/plain": [
       "(array(['2013-10-01T00:00:00.000000000', '2013-10-02T00:00:00.000000000',\n",
       "        '2013-10-03T00:00:00.000000000', '2013-10-04T00:00:00.000000000',\n",
       "        '2013-10-05T00:00:00.000000000', '2013-10-06T00:00:00.000000000',\n",
       "        '2013-10-07T00:00:00.000000000', '2013-10-08T00:00:00.000000000',\n",
       "        '2013-10-09T00:00:00.000000000', '2013-10-10T00:00:00.000000000'],\n",
       "       dtype='datetime64[ns]'),\n",
       " array([123.65499, 125.455  , 108.58483, 118.67466, 121.33866, 120.65533,\n",
       "        121.795  , 123.033  , 124.049  , 125.96116]))"
      ]
     },
     "execution_count": 12,
     "metadata": {},
     "output_type": "execute_result"
    }
   ],
   "source": [
    "# Get bitcoin date array\n",
    "timesteps = bitcoin_prices.index.to_numpy()\n",
    "prices = bitcoin_prices[\"Price\"].to_numpy()\n",
    "\n",
    "timesteps[:10], prices[:10]"
   ]
  },
  {
   "cell_type": "code",
   "execution_count": 13,
   "metadata": {},
   "outputs": [
    {
     "data": {
      "text/plain": [
       "(2229, 558, 2229, 558)"
      ]
     },
     "execution_count": 13,
     "metadata": {},
     "output_type": "execute_result"
    }
   ],
   "source": [
    "# Create train and test splits the right way for time series data\n",
    "split_size = int(0.8 * len(prices)) # 80% train, 20% test\n",
    "\n",
    "# Create train data splits (everything before the split)\n",
    "X_train, y_train = timesteps[:split_size], prices[:split_size]\n",
    "\n",
    "# Create test data splits (everything after the split)\n",
    "X_test, y_test = timesteps[split_size:], prices[split_size:]\n",
    "\n",
    "len(X_train), len(X_test), len(y_train), len(y_test)"
   ]
  },
  {
   "cell_type": "code",
   "execution_count": 14,
   "metadata": {},
   "outputs": [
    {
     "data": {
      "image/png": "[encoded data removed]",
      "text/plain": [
       "<Figure size 720x504 with 1 Axes>"
      ]
     },
     "metadata": {
      "needs_background": "light"
     },
     "output_type": "display_data"
    }
   ],
   "source": [
    "# Plot correctly made splits\n",
    "plt.figure(figsize=(10, 7))\n",
    "plt.scatter(X_train, y_train, s=5, label=\"Train data\")\n",
    "plt.scatter(X_test, y_test, s=5, label=\"Test data\")\n",
    "plt.xlabel(\"Date\")\n",
    "plt.ylabel(\"BTC Price\")\n",
    "plt.legend(fontsize=14)\n",
    "plt.show();"
   ]
  },
  {
   "cell_type": "code",
   "execution_count": 15,
   "metadata": {},
   "outputs": [],
   "source": [
    "# Create a function to plot time series data\n",
    "def plot_time_series(timesteps, values, format='.', start=0, end=None, label=None):\n",
    "  \"\"\"\n",
    "  Plots a timesteps (a series of points in time) against values (a series of values across timesteps).\n",
    "  \n",
    "  Parameters\n",
    "  ---------\n",
    "  timesteps : array of timesteps\n",
    "  values : array of values across time\n",
    "  format : style of plot, default \".\"\n",
    "  start : where to start the plot (setting a value will index from start of timesteps & values)\n",
    "  end : where to end the plot (setting a value will index from end of timesteps & values)\n",
    "  label : label to show on plot of values\n",
    "  \"\"\"\n",
    "  # Plot the series\n",
    "  plt.plot(timesteps[start:end], values[start:end], format, label=label)\n",
    "  plt.xlabel(\"Time\")\n",
    "  plt.ylabel(\"BTC Price\")\n",
    "  if label:\n",
    "    plt.legend(fontsize=14) # make label bigger\n",
    "  plt.grid(True)"
   ]
  },
  {
   "cell_type": "code",
   "execution_count": 16,
   "metadata": {},
   "outputs": [
    {
     "data": {
      "image/png": "[encoded data removed]",
      "text/plain": [
       "<Figure size 720x504 with 1 Axes>"
      ]
     },
     "metadata": {
      "needs_background": "light"
     },
     "output_type": "display_data"
    }
   ],
   "source": [
    "# Try out our plotting function\n",
    "plt.figure(figsize=(10, 7))\n",
    "plot_time_series(timesteps=X_train, values=y_train, label=\"Train data\")\n",
    "plot_time_series(timesteps=X_test, values=y_test, label=\"Test data\")"
   ]
  },
  {
   "cell_type": "code",
   "execution_count": 17,
   "metadata": {},
   "outputs": [
    {
     "data": {
      "text/plain": [
       "(array([9226.48582088, 8794.35864452, 8798.04205463, 9081.18687849,\n",
       "        8711.53433917, 8760.89271814, 8749.52059102, 8656.97092235,\n",
       "        8500.64355816, 8469.2608989 ]),\n",
       " array([57107.12067189, 58788.20967893, 58102.19142623, 55715.54665129,\n",
       "        56573.5554719 , 52147.82118698, 49764.1320816 , 50032.69313676,\n",
       "        47885.62525472, 45604.61575361]))"
      ]
     },
     "execution_count": 17,
     "metadata": {},
     "output_type": "execute_result"
    }
   ],
   "source": [
    "# Create a naïve forecast\n",
    "naive_forecast = y_test[:-1] # Naïve forecast equals every value excluding the last value\n",
    "naive_forecast[:10], naive_forecast[-10:] # View frist 10 and last 10"
   ]
  },
  {
   "cell_type": "code",
   "execution_count": 18,
   "metadata": {},
   "outputs": [
    {
     "data": {
      "image/png": "[encoded data removed]",
      "text/plain": [
       "<Figure size 720x504 with 1 Axes>"
      ]
     },
     "metadata": {
      "needs_background": "light"
     },
     "output_type": "display_data"
    }
   ],
   "source": [
    "# Plot naive forecast\n",
    "plt.figure(figsize=(10, 7))\n",
    "plot_time_series(timesteps=X_train, values=y_train, label=\"Train data\")\n",
    "plot_time_series(timesteps=X_test, values=y_test, label=\"Test data\")\n",
    "plot_time_series(timesteps=X_test[1:], values=naive_forecast, format=\"-\", label=\"Naive forecast\");"
   ]
  },
  {
   "cell_type": "code",
   "execution_count": 19,
   "metadata": {},
   "outputs": [],
   "source": [
    "# MASE implemented courtesy of sktime - https://github.com/alan-turing-institute/sktime/blob/ee7a06843a44f4aaec7582d847e36073a9ab0566/sktime/performance_metrics/forecasting/_functions.py#L16\n",
    "def mean_absolute_scaled_error(y_true, y_pred):\n",
    "  \"\"\"\n",
    "  Implement MASE (assuming no seasonality of data).\n",
    "  \"\"\"\n",
    "  mae = tf.reduce_mean(tf.abs(y_true - y_pred))\n",
    "\n",
    "  # Find MAE of naive forecast (no seasonality)\n",
    "  mae_naive_no_season = tf.reduce_mean(tf.abs(y_true[1:] - y_true[:-1])) # our seasonality is 1 day (hence the shifting of 1 day)\n",
    "\n",
    "  return mae / mae_naive_no_season"
   ]
  },
  {
   "cell_type": "code",
   "execution_count": 20,
   "metadata": {},
   "outputs": [],
   "source": [
    "def evaluate_preds(y_true, y_pred):\n",
    "  # Make sure float32 (for metric calculations)\n",
    "  y_true = tf.cast(y_true, dtype=tf.float32)\n",
    "  y_pred = tf.cast(y_pred, dtype=tf.float32)\n",
    "\n",
    "  # Calculate various metrics\n",
    "  mae = tf.keras.metrics.mean_absolute_error(y_true, y_pred)\n",
    "  mse = tf.keras.metrics.mean_squared_error(y_true, y_pred) # puts and emphasis on outliers (all errors get squared)\n",
    "  rmse = tf.sqrt(mse)\n",
    "  mape = tf.keras.metrics.mean_absolute_percentage_error(y_true, y_pred)\n",
    "  mase = mean_absolute_scaled_error(y_true, y_pred)\n",
    "  \n",
    "  return {\"mae\": mae.numpy(),\n",
    "          \"mse\": mse.numpy(),\n",
    "          \"rmse\": rmse.numpy(),\n",
    "          \"mape\": mape.numpy(),\n",
    "          \"mase\": mase.numpy()}"
   ]
  },
  {
   "cell_type": "code",
   "execution_count": 22,
   "metadata": {},
   "outputs": [
    {
     "name": "stderr",
     "output_type": "stream",
     "text": [
      "2022-06-21 15:31:26.511252: I tensorflow/core/platform/cpu_feature_guard.cc:151] This TensorFlow binary is optimized with oneAPI Deep Neural Network Library (oneDNN) to use the following CPU instructions in performance-critical operations:  AVX2 FMA\n",
      "To enable them in other operations, rebuild TensorFlow with the appropriate compiler flags.\n"
     ]
    },
    {
     "data": {
      "text/plain": [
       "{'mae': 567.9802,\n",
       " 'mse': 1147547.0,\n",
       " 'rmse': 1071.2362,\n",
       " 'mape': 2.516525,\n",
       " 'mase': 0.99957}"
      ]
     },
     "execution_count": 22,
     "metadata": {},
     "output_type": "execute_result"
    }
   ],
   "source": [
    "import tensorflow as tf\n",
    "\n",
    "naive_results = evaluate_preds(y_true=y_test[1:],\n",
    "                               y_pred=naive_forecast)\n",
    "naive_results"
   ]
  },
  {
   "cell_type": "code",
   "execution_count": 23,
   "metadata": {},
   "outputs": [
    {
     "data": {
      "text/plain": [
       "20056.632963737226"
      ]
     },
     "execution_count": 23,
     "metadata": {},
     "output_type": "execute_result"
    }
   ],
   "source": [
    "# Find average price of Bitcoin in test dataset\n",
    "tf.reduce_mean(y_test).numpy()"
   ]
  },
  {
   "cell_type": "code",
   "execution_count": 24,
   "metadata": {},
   "outputs": [],
   "source": [
    "HORIZON = 1 # predict 1 step at a time\n",
    "WINDOW_SIZE = 7 # use a week worth of timesteps to predict the horizon"
   ]
  },
  {
   "cell_type": "code",
   "execution_count": 25,
   "metadata": {},
   "outputs": [],
   "source": [
    "# Create function to label windowed data\n",
    "def get_labelled_windows(x, horizon=1):\n",
    "  \"\"\"\n",
    "  Creates labels for windowed dataset.\n",
    "\n",
    "  E.g. if horizon=1 (default)\n",
    "  Input: [1, 2, 3, 4, 5, 6] -> Output: ([1, 2, 3, 4, 5], [6])\n",
    "  \"\"\"\n",
    "  return x[:, :-horizon], x[:, -horizon:]"
   ]
  },
  {
   "cell_type": "code",
   "execution_count": 26,
   "metadata": {},
   "outputs": [
    {
     "name": "stdout",
     "output_type": "stream",
     "text": [
      "Window: [1 2 3 4 5 6 7] -> Label: 8\n"
     ]
    }
   ],
   "source": [
    "# Test out the window labelling function\n",
    "test_window, test_label = get_labelled_windows(tf.expand_dims(tf.range(8)+1, axis=0), horizon=HORIZON)\n",
    "print(f\"Window: {tf.squeeze(test_window).numpy()} -> Label: {tf.squeeze(test_label).numpy()}\")"
   ]
  },
  {
   "cell_type": "code",
   "execution_count": 27,
   "metadata": {},
   "outputs": [],
   "source": [
    "# Create function to view NumPy arrays as windows \n",
    "def make_windows(x, window_size=7, horizon=1):\n",
    "  \"\"\"\n",
    "  Turns a 1D array into a 2D array of sequential windows of window_size.\n",
    "  \"\"\"\n",
    "  # 1. Create a window of specific window_size (add the horizon on the end for later labelling)\n",
    "  window_step = np.expand_dims(np.arange(window_size+horizon), axis=0)\n",
    "  # print(f\"Window step:\\n {window_step}\")\n",
    "\n",
    "  # 2. Create a 2D array of multiple window steps (minus 1 to account for 0 indexing)\n",
    "  window_indexes = window_step + np.expand_dims(np.arange(len(x)-(window_size+horizon-1)), axis=0).T # create 2D array of windows of size window_size\n",
    "  # print(f\"Window indexes:\\n {window_indexes[:3], window_indexes[-3:], window_indexes.shape}\")\n",
    "\n",
    "  # 3. Index on the target array (time series) with 2D array of multiple window steps\n",
    "  windowed_array = x[window_indexes]\n",
    "\n",
    "  # 4. Get the labelled windows\n",
    "  windows, labels = get_labelled_windows(windowed_array, horizon=horizon)\n",
    "\n",
    "  return windows, labels"
   ]
  },
  {
   "cell_type": "code",
   "execution_count": 28,
   "metadata": {},
   "outputs": [
    {
     "data": {
      "text/plain": [
       "(2780, 2780)"
      ]
     },
     "execution_count": 28,
     "metadata": {},
     "output_type": "execute_result"
    }
   ],
   "source": [
    "full_windows, full_labels = make_windows(prices, window_size=WINDOW_SIZE, horizon=HORIZON)\n",
    "len(full_windows), len(full_labels)"
   ]
  },
  {
   "cell_type": "code",
   "execution_count": 29,
   "metadata": {},
   "outputs": [
    {
     "name": "stdout",
     "output_type": "stream",
     "text": [
      "Window: [123.65499 125.455   108.58483 118.67466 121.33866 120.65533 121.795  ] -> Label: [123.033]\n",
      "Window: [125.455   108.58483 118.67466 121.33866 120.65533 121.795   123.033  ] -> Label: [124.049]\n",
      "Window: [108.58483 118.67466 121.33866 120.65533 121.795   123.033   124.049  ] -> Label: [125.96116]\n"
     ]
    }
   ],
   "source": [
    "# View the first 3 windows/labels\n",
    "for i in range(3):\n",
    "  print(f\"Window: {full_windows[i]} -> Label: {full_labels[i]}\")"
   ]
  },
  {
   "cell_type": "code",
   "execution_count": 30,
   "metadata": {},
   "outputs": [
    {
     "name": "stdout",
     "output_type": "stream",
     "text": [
      "Window: [58788.20967893 58102.19142623 55715.54665129 56573.5554719\n",
      " 52147.82118698 49764.1320816  50032.69313676] -> Label: [47885.62525472]\n",
      "Window: [58102.19142623 55715.54665129 56573.5554719  52147.82118698\n",
      " 49764.1320816  50032.69313676 47885.62525472] -> Label: [45604.61575361]\n",
      "Window: [55715.54665129 56573.5554719  52147.82118698 49764.1320816\n",
      " 50032.69313676 47885.62525472 45604.61575361] -> Label: [43144.47129086]\n"
     ]
    }
   ],
   "source": [
    "# View the last 3 windows/labels\n",
    "for i in range(3):\n",
    "  print(f\"Window: {full_windows[i-3]} -> Label: {full_labels[i-3]}\")"
   ]
  },
  {
   "cell_type": "code",
   "execution_count": 31,
   "metadata": {},
   "outputs": [],
   "source": [
    "# Make the train/test splits\n",
    "def make_train_test_splits(windows, labels, test_split=0.2):\n",
    "  \"\"\"\n",
    "  Splits matching pairs of windows and labels into train and test splits.\n",
    "  \"\"\"\n",
    "  split_size = int(len(windows) * (1-test_split)) # this will default to 80% train/20% test\n",
    "  train_windows = windows[:split_size]\n",
    "  train_labels = labels[:split_size]\n",
    "  test_windows = windows[split_size:]\n",
    "  test_labels = labels[split_size:]\n",
    "  return train_windows, test_windows, train_labels, test_labels"
   ]
  },
  {
   "cell_type": "code",
   "execution_count": 32,
   "metadata": {},
   "outputs": [
    {
     "data": {
      "text/plain": [
       "(2224, 556, 2224, 556)"
      ]
     },
     "execution_count": 32,
     "metadata": {},
     "output_type": "execute_result"
    }
   ],
   "source": [
    "train_windows, test_windows, train_labels, test_labels = make_train_test_splits(full_windows, full_labels)\n",
    "len(train_windows), len(test_windows), len(train_labels), len(test_labels)"
   ]
  },
  {
   "cell_type": "code",
   "execution_count": 33,
   "metadata": {},
   "outputs": [
    {
     "data": {
      "text/plain": [
       "(array([[123.65499, 125.455  , 108.58483, 118.67466, 121.33866, 120.65533,\n",
       "         121.795  ],\n",
       "        [125.455  , 108.58483, 118.67466, 121.33866, 120.65533, 121.795  ,\n",
       "         123.033  ],\n",
       "        [108.58483, 118.67466, 121.33866, 120.65533, 121.795  , 123.033  ,\n",
       "         124.049  ],\n",
       "        [118.67466, 121.33866, 120.65533, 121.795  , 123.033  , 124.049  ,\n",
       "         125.96116],\n",
       "        [121.33866, 120.65533, 121.795  , 123.033  , 124.049  , 125.96116,\n",
       "         125.27966]]),\n",
       " array([[123.033  ],\n",
       "        [124.049  ],\n",
       "        [125.96116],\n",
       "        [125.27966],\n",
       "        [125.9275 ]]))"
      ]
     },
     "execution_count": 33,
     "metadata": {},
     "output_type": "execute_result"
    }
   ],
   "source": [
    "train_windows[:5], train_labels[:5]"
   ]
  },
  {
   "cell_type": "code",
   "execution_count": 34,
   "metadata": {},
   "outputs": [
    {
     "data": {
      "text/plain": [
       "True"
      ]
     },
     "execution_count": 34,
     "metadata": {},
     "output_type": "execute_result"
    }
   ],
   "source": [
    "# Check to see if same (accounting for horizon and window size)\n",
    "np.array_equal(np.squeeze(train_labels[:-HORIZON-1]), y_train[WINDOW_SIZE:])"
   ]
  },
  {
   "cell_type": "code",
   "execution_count": 35,
   "metadata": {},
   "outputs": [],
   "source": [
    "import os\n",
    "\n",
    "# Create a function to implement a ModelCheckpoint callback with a specific filename \n",
    "def create_model_checkpoint(model_name, save_path=\"model_experiments\"):\n",
    "  return tf.keras.callbacks.ModelCheckpoint(filepath=os.path.join(save_path, model_name), # create filepath to save model\n",
    "                                            verbose=0, # only output a limited amount of text\n",
    "                                            save_best_only=True) # save only the best model to file"
   ]
  },
  {
   "cell_type": "code",
   "execution_count": 36,
   "metadata": {},
   "outputs": [
    {
     "name": "stdout",
     "output_type": "stream",
     "text": [
      "Epoch 1/100\n",
      " 1/18 [>.............................] - ETA: 9s - loss: 2111.0571 - mae: 2111.0571"
     ]
    },
    {
     "name": "stderr",
     "output_type": "stream",
     "text": [
      "2022-06-22 10:02:43.694908: W tensorflow/python/util/util.cc:368] Sets are not currently considered sequences, but this may change in the future, so consider avoiding using them.\n"
     ]
    },
    {
     "name": "stdout",
     "output_type": "stream",
     "text": [
      "INFO:tensorflow:Assets written to: model_experiments/model_1_dense/assets\n",
      "18/18 [==============================] - 1s 38ms/step - loss: 780.3469 - mae: 780.3469 - val_loss: 2279.5833 - val_mae: 2279.5833\n",
      "Epoch 2/100\n",
      " 1/18 [>.............................] - ETA: 0s - loss: 348.8778 - mae: 348.8778INFO:tensorflow:Assets written to: model_experiments/model_1_dense/assets\n",
      "18/18 [==============================] - 0s 22ms/step - loss: 247.6765 - mae: 247.6765 - val_loss: 1005.9865 - val_mae: 1005.9865\n",
      "Epoch 3/100\n",
      " 1/18 [>.............................] - ETA: 0s - loss: 134.4844 - mae: 134.4844INFO:tensorflow:Assets written to: model_experiments/model_1_dense/assets\n",
      "18/18 [==============================] - 0s 25ms/step - loss: 188.4107 - mae: 188.4107 - val_loss: 923.2859 - val_mae: 923.2859\n",
      "Epoch 4/100\n",
      " 1/18 [>.............................] - ETA: 0s - loss: 211.3675 - mae: 211.3675INFO:tensorflow:Assets written to: model_experiments/model_1_dense/assets\n",
      "18/18 [==============================] - 1s 48ms/step - loss: 169.4334 - mae: 169.4334 - val_loss: 900.5931 - val_mae: 900.5931\n",
      "Epoch 5/100\n",
      " 1/18 [>.............................] - ETA: 0s - loss: 155.7283 - mae: 155.7283INFO:tensorflow:Assets written to: model_experiments/model_1_dense/assets\n",
      "18/18 [==============================] - 0s 24ms/step - loss: 165.0900 - mae: 165.0900 - val_loss: 895.2405 - val_mae: 895.2405\n",
      "Epoch 6/100\n",
      " 1/18 [>.............................] - ETA: 0s - loss: 117.3697 - mae: 117.3697INFO:tensorflow:Assets written to: model_experiments/model_1_dense/assets\n",
      "18/18 [==============================] - 0s 24ms/step - loss: 158.5206 - mae: 158.5206 - val_loss: 855.1868 - val_mae: 855.1868\n",
      "Epoch 7/100\n",
      " 1/18 [>.............................] - ETA: 0s - loss: 180.3330 - mae: 180.3330INFO:tensorflow:Assets written to: model_experiments/model_1_dense/assets\n",
      "18/18 [==============================] - 0s 24ms/step - loss: 151.3568 - mae: 151.3568 - val_loss: 840.9290 - val_mae: 840.9290\n",
      "Epoch 8/100\n",
      " 1/18 [>.............................] - ETA: 0s - loss: 121.1151 - mae: 121.1151INFO:tensorflow:Assets written to: model_experiments/model_1_dense/assets\n",
      "18/18 [==============================] - 0s 22ms/step - loss: 145.2561 - mae: 145.2561 - val_loss: 803.6006 - val_mae: 803.6006\n",
      "Epoch 9/100\n",
      " 1/18 [>.............................] - ETA: 0s - loss: 126.2221 - mae: 126.2221INFO:tensorflow:Assets written to: model_experiments/model_1_dense/assets\n",
      "18/18 [==============================] - 0s 22ms/step - loss: 144.3546 - mae: 144.3546 - val_loss: 799.5590 - val_mae: 799.5590\n",
      "Epoch 10/100\n",
      " 1/18 [>.............................] - ETA: 0s - loss: 148.4517 - mae: 148.4517INFO:tensorflow:Assets written to: model_experiments/model_1_dense/assets\n",
      "18/18 [==============================] - 0s 21ms/step - loss: 141.2944 - mae: 141.2944 - val_loss: 763.5059 - val_mae: 763.5059\n",
      "Epoch 11/100\n",
      "18/18 [==============================] - 0s 2ms/step - loss: 135.6591 - mae: 135.6591 - val_loss: 771.3522 - val_mae: 771.3522\n",
      "Epoch 12/100\n",
      "18/18 [==============================] - 0s 2ms/step - loss: 134.1702 - mae: 134.1702 - val_loss: 782.8324 - val_mae: 782.8324\n",
      "Epoch 13/100\n",
      "18/18 [==============================] - 0s 2ms/step - loss: 134.6014 - mae: 134.6014 - val_loss: 784.4726 - val_mae: 784.4726\n",
      "Epoch 14/100\n",
      " 1/18 [>.............................] - ETA: 0s - loss: 136.5616 - mae: 136.5616INFO:tensorflow:Assets written to: model_experiments/model_1_dense/assets\n",
      "18/18 [==============================] - 0s 22ms/step - loss: 130.6125 - mae: 130.6125 - val_loss: 751.3469 - val_mae: 751.3469\n",
      "Epoch 15/100\n",
      " 1/18 [>.............................] - ETA: 0s - loss: 131.5394 - mae: 131.5394INFO:tensorflow:Assets written to: model_experiments/model_1_dense/assets\n",
      "18/18 [==============================] - 0s 21ms/step - loss: 128.8352 - mae: 128.8352 - val_loss: 696.5836 - val_mae: 696.5836\n",
      "Epoch 16/100\n",
      "18/18 [==============================] - 0s 2ms/step - loss: 124.8667 - mae: 124.8667 - val_loss: 707.2986 - val_mae: 707.2986\n",
      "Epoch 17/100\n",
      "18/18 [==============================] - 0s 2ms/step - loss: 123.6096 - mae: 123.6096 - val_loss: 714.2289 - val_mae: 714.2289\n",
      "Epoch 18/100\n",
      " 1/18 [>.............................] - ETA: 0s - loss: 138.5526 - mae: 138.5526INFO:tensorflow:Assets written to: model_experiments/model_1_dense/assets\n",
      "18/18 [==============================] - 0s 23ms/step - loss: 122.3023 - mae: 122.3023 - val_loss: 669.1412 - val_mae: 669.1412\n",
      "Epoch 19/100\n",
      "18/18 [==============================] - 0s 2ms/step - loss: 121.4932 - mae: 121.4932 - val_loss: 721.5450 - val_mae: 721.5450\n",
      "Epoch 20/100\n",
      " 1/18 [>.............................] - ETA: 0s - loss: 135.4132 - mae: 135.4132INFO:tensorflow:Assets written to: model_experiments/model_1_dense/assets\n",
      "18/18 [==============================] - 0s 21ms/step - loss: 119.2384 - mae: 119.2384 - val_loss: 658.0785 - val_mae: 658.0785\n",
      "Epoch 21/100\n",
      " 1/18 [>.............................] - ETA: 0s - loss: 128.8736 - mae: 128.8736INFO:tensorflow:Assets written to: model_experiments/model_1_dense/assets\n",
      "18/18 [==============================] - 0s 22ms/step - loss: 121.5293 - mae: 121.5293 - val_loss: 638.3385 - val_mae: 638.3385\n",
      "Epoch 22/100\n",
      "18/18 [==============================] - 0s 2ms/step - loss: 119.3422 - mae: 119.3422 - val_loss: 678.8880 - val_mae: 678.8880\n",
      "Epoch 23/100\n",
      "18/18 [==============================] - 0s 2ms/step - loss: 122.8203 - mae: 122.8203 - val_loss: 651.8512 - val_mae: 651.8512\n",
      "Epoch 24/100\n",
      " 1/18 [>.............................] - ETA: 0s - loss: 125.6553 - mae: 125.6553INFO:tensorflow:Assets written to: model_experiments/model_1_dense/assets\n",
      "18/18 [==============================] - 0s 22ms/step - loss: 117.0774 - mae: 117.0774 - val_loss: 623.5612 - val_mae: 623.5612\n",
      "Epoch 25/100\n",
      " 1/18 [>.............................] - ETA: 0s - loss: 122.1502 - mae: 122.1502INFO:tensorflow:Assets written to: model_experiments/model_1_dense/assets\n",
      "18/18 [==============================] - 0s 24ms/step - loss: 115.1816 - mae: 115.1816 - val_loss: 618.5575 - val_mae: 618.5575\n",
      "Epoch 26/100\n",
      " 1/18 [>.............................] - ETA: 0s - loss: 109.7065 - mae: 109.7065INFO:tensorflow:Assets written to: model_experiments/model_1_dense/assets\n",
      "18/18 [==============================] - 0s 23ms/step - loss: 115.0673 - mae: 115.0673 - val_loss: 616.4917 - val_mae: 616.4917\n",
      "Epoch 27/100\n",
      "18/18 [==============================] - 0s 2ms/step - loss: 116.6431 - mae: 116.6431 - val_loss: 619.0471 - val_mae: 619.0471\n",
      "Epoch 28/100\n",
      " 1/18 [>.............................] - ETA: 0s - loss: 102.1524 - mae: 102.1524INFO:tensorflow:Assets written to: model_experiments/model_1_dense/assets\n",
      "18/18 [==============================] - 0s 23ms/step - loss: 114.0328 - mae: 114.0328 - val_loss: 610.3880 - val_mae: 610.3880\n",
      "Epoch 29/100\n",
      "18/18 [==============================] - 0s 2ms/step - loss: 113.4892 - mae: 113.4892 - val_loss: 617.2402 - val_mae: 617.2402\n",
      "Epoch 30/100\n",
      " 1/18 [>.............................] - ETA: 0s - loss: 124.6252 - mae: 124.6252INFO:tensorflow:Assets written to: model_experiments/model_1_dense/assets\n",
      "18/18 [==============================] - 0s 23ms/step - loss: 116.4094 - mae: 116.4094 - val_loss: 603.6489 - val_mae: 603.6489\n",
      "Epoch 31/100\n",
      "18/18 [==============================] - 0s 2ms/step - loss: 112.3454 - mae: 112.3454 - val_loss: 623.4432 - val_mae: 623.4432\n",
      "Epoch 32/100\n",
      " 1/18 [>.............................] - ETA: 0s - loss: 110.3431 - mae: 110.3431INFO:tensorflow:Assets written to: model_experiments/model_1_dense/assets\n",
      "18/18 [==============================] - 0s 23ms/step - loss: 113.2056 - mae: 113.2056 - val_loss: 600.0259 - val_mae: 600.0259\n",
      "Epoch 33/100\n",
      "18/18 [==============================] - 0s 2ms/step - loss: 112.9529 - mae: 112.9529 - val_loss: 653.0601 - val_mae: 653.0601\n",
      "Epoch 34/100\n",
      " 1/18 [>.............................] - ETA: 0s - loss: 140.4312 - mae: 140.4312INFO:tensorflow:Assets written to: model_experiments/model_1_dense/assets\n",
      "18/18 [==============================] - 0s 21ms/step - loss: 112.1156 - mae: 112.1156 - val_loss: 594.7914 - val_mae: 594.7914\n",
      "Epoch 35/100\n",
      " 1/18 [>.............................] - ETA: 0s - loss: 100.0623 - mae: 100.0623INFO:tensorflow:Assets written to: model_experiments/model_1_dense/assets\n",
      "18/18 [==============================] - 0s 21ms/step - loss: 110.7447 - mae: 110.7447 - val_loss: 592.7401 - val_mae: 592.7401\n",
      "Epoch 36/100\n",
      " 1/18 [>.............................] - ETA: 0s - loss: 149.3918 - mae: 149.3918INFO:tensorflow:Assets written to: model_experiments/model_1_dense/assets\n",
      "18/18 [==============================] - 1s 34ms/step - loss: 116.3300 - mae: 116.3300 - val_loss: 592.4697 - val_mae: 592.4697\n",
      "Epoch 37/100\n",
      "18/18 [==============================] - 0s 2ms/step - loss: 110.7676 - mae: 110.7676 - val_loss: 618.5349 - val_mae: 618.5349\n",
      "Epoch 38/100\n",
      "18/18 [==============================] - 0s 2ms/step - loss: 112.5935 - mae: 112.5935 - val_loss: 613.9559 - val_mae: 613.9559\n",
      "Epoch 39/100\n",
      " 1/18 [>.............................] - ETA: 0s - loss: 128.7077 - mae: 128.7077INFO:tensorflow:Assets written to: model_experiments/model_1_dense/assets\n",
      "18/18 [==============================] - 0s 22ms/step - loss: 110.1321 - mae: 110.1321 - val_loss: 586.6888 - val_mae: 586.6888\n",
      "Epoch 40/100\n",
      "18/18 [==============================] - 0s 3ms/step - loss: 109.4753 - mae: 109.4753 - val_loss: 593.9155 - val_mae: 593.9155\n",
      "Epoch 41/100\n",
      " 1/18 [>.............................] - ETA: 0s - loss: 105.0374 - mae: 105.0374INFO:tensorflow:Assets written to: model_experiments/model_1_dense/assets\n",
      "18/18 [==============================] - 0s 21ms/step - loss: 110.1777 - mae: 110.1777 - val_loss: 586.4464 - val_mae: 586.4464\n",
      "Epoch 42/100\n",
      "18/18 [==============================] - 0s 2ms/step - loss: 111.5192 - mae: 111.5192 - val_loss: 649.3648 - val_mae: 649.3648\n",
      "Epoch 43/100\n",
      "18/18 [==============================] - 0s 2ms/step - loss: 115.8939 - mae: 115.8939 - val_loss: 686.8297 - val_mae: 686.8297\n",
      "Epoch 44/100\n",
      "18/18 [==============================] - 0s 2ms/step - loss: 123.0945 - mae: 123.0945 - val_loss: 661.1305 - val_mae: 661.1305\n",
      "Epoch 45/100\n",
      "18/18 [==============================] - 0s 2ms/step - loss: 113.8169 - mae: 113.8169 - val_loss: 626.8175 - val_mae: 626.8175\n",
      "Epoch 46/100\n",
      "18/18 [==============================] - 0s 2ms/step - loss: 114.0971 - mae: 114.0971 - val_loss: 588.7770 - val_mae: 588.7770\n",
      "Epoch 47/100\n",
      "18/18 [==============================] - 0s 2ms/step - loss: 108.9936 - mae: 108.9936 - val_loss: 636.0580 - val_mae: 636.0580\n",
      "Epoch 48/100\n",
      "18/18 [==============================] - 0s 2ms/step - loss: 109.2967 - mae: 109.2967 - val_loss: 604.1584 - val_mae: 604.1584\n",
      "Epoch 49/100\n",
      "18/18 [==============================] - 0s 2ms/step - loss: 111.7787 - mae: 111.7787 - val_loss: 591.5094 - val_mae: 591.5094\n",
      "Epoch 50/100\n",
      "18/18 [==============================] - 0s 2ms/step - loss: 111.7319 - mae: 111.7319 - val_loss: 636.4679 - val_mae: 636.4679\n",
      "Epoch 51/100\n",
      "18/18 [==============================] - 0s 2ms/step - loss: 110.7497 - mae: 110.7497 - val_loss: 589.2877 - val_mae: 589.2877\n",
      "Epoch 52/100\n",
      "18/18 [==============================] - 0s 2ms/step - loss: 111.5193 - mae: 111.5193 - val_loss: 609.5291 - val_mae: 609.5291\n",
      "Epoch 53/100\n",
      " 1/18 [>.............................] - ETA: 0s - loss: 63.2880 - mae: 63.2880INFO:tensorflow:Assets written to: model_experiments/model_1_dense/assets\n",
      "18/18 [==============================] - 0s 22ms/step - loss: 113.9869 - mae: 113.9869 - val_loss: 584.7469 - val_mae: 584.7469\n",
      "Epoch 54/100\n",
      " 1/18 [>.............................] - ETA: 0s - loss: 98.4018 - mae: 98.4018INFO:tensorflow:Assets written to: model_experiments/model_1_dense/assets\n",
      "18/18 [==============================] - 0s 23ms/step - loss: 110.1075 - mae: 110.1075 - val_loss: 578.7416 - val_mae: 578.7416\n",
      "Epoch 55/100\n",
      "18/18 [==============================] - 0s 2ms/step - loss: 110.6423 - mae: 110.6423 - val_loss: 581.5333 - val_mae: 581.5333\n",
      "Epoch 56/100\n",
      "18/18 [==============================] - 0s 2ms/step - loss: 107.6537 - mae: 107.6537 - val_loss: 759.0193 - val_mae: 759.0193\n",
      "Epoch 57/100\n",
      "18/18 [==============================] - 0s 2ms/step - loss: 119.2012 - mae: 119.2012 - val_loss: 603.5955 - val_mae: 603.5955\n",
      "Epoch 58/100\n",
      "18/18 [==============================] - 0s 2ms/step - loss: 116.4417 - mae: 116.4417 - val_loss: 583.7296 - val_mae: 583.7296\n",
      "Epoch 59/100\n",
      "18/18 [==============================] - 0s 2ms/step - loss: 109.9014 - mae: 109.9014 - val_loss: 592.8419 - val_mae: 592.8419\n",
      "Epoch 60/100\n",
      "18/18 [==============================] - 0s 2ms/step - loss: 107.7859 - mae: 107.7859 - val_loss: 593.4967 - val_mae: 593.4967\n",
      "Epoch 61/100\n",
      " 1/18 [>.............................] - ETA: 0s - loss: 130.6453 - mae: 130.6453INFO:tensorflow:Assets written to: model_experiments/model_1_dense/assets\n",
      "18/18 [==============================] - 0s 21ms/step - loss: 107.6960 - mae: 107.6960 - val_loss: 575.5123 - val_mae: 575.5123\n",
      "Epoch 62/100\n",
      "18/18 [==============================] - 0s 2ms/step - loss: 107.1258 - mae: 107.1258 - val_loss: 580.2646 - val_mae: 580.2646\n",
      "Epoch 63/100\n",
      "18/18 [==============================] - 0s 2ms/step - loss: 111.8451 - mae: 111.8451 - val_loss: 654.6138 - val_mae: 654.6138\n",
      "Epoch 64/100\n",
      "18/18 [==============================] - 0s 2ms/step - loss: 110.3121 - mae: 110.3121 - val_loss: 610.7808 - val_mae: 610.7808\n",
      "Epoch 65/100\n",
      " 1/18 [>.............................] - ETA: 0s - loss: 131.5207 - mae: 131.5207INFO:tensorflow:Assets written to: model_experiments/model_1_dense/assets\n",
      "18/18 [==============================] - 0s 22ms/step - loss: 109.7098 - mae: 109.7098 - val_loss: 573.9961 - val_mae: 573.9961\n",
      "Epoch 66/100\n",
      " 1/18 [>.............................] - ETA: 0s - loss: 112.4865 - mae: 112.4865INFO:tensorflow:Assets written to: model_experiments/model_1_dense/assets\n",
      "18/18 [==============================] - 0s 22ms/step - loss: 106.8139 - mae: 106.8139 - val_loss: 572.9990 - val_mae: 572.9990\n",
      "Epoch 67/100\n",
      "18/18 [==============================] - 0s 2ms/step - loss: 106.1394 - mae: 106.1394 - val_loss: 602.1526 - val_mae: 602.1526\n",
      "Epoch 68/100\n",
      "18/18 [==============================] - 0s 2ms/step - loss: 112.9245 - mae: 112.9245 - val_loss: 687.6379 - val_mae: 687.6379\n",
      "Epoch 69/100\n",
      "18/18 [==============================] - 0s 2ms/step - loss: 126.9916 - mae: 126.9916 - val_loss: 664.9476 - val_mae: 664.9476\n",
      "Epoch 70/100\n",
      "18/18 [==============================] - 0s 2ms/step - loss: 124.8734 - mae: 124.8734 - val_loss: 619.6687 - val_mae: 619.6687\n",
      "Epoch 71/100\n",
      "18/18 [==============================] - 0s 2ms/step - loss: 109.8522 - mae: 109.8522 - val_loss: 582.3636 - val_mae: 582.3636\n",
      "Epoch 72/100\n",
      "18/18 [==============================] - 0s 2ms/step - loss: 107.6717 - mae: 107.6717 - val_loss: 573.4947 - val_mae: 573.4947\n",
      "Epoch 73/100\n",
      "18/18 [==============================] - 0s 2ms/step - loss: 109.6036 - mae: 109.6036 - val_loss: 583.9047 - val_mae: 583.9047\n",
      "Epoch 74/100\n",
      " 1/18 [>.............................] - ETA: 0s - loss: 165.4989 - mae: 165.4989INFO:tensorflow:Assets written to: model_experiments/model_1_dense/assets\n",
      "18/18 [==============================] - 0s 21ms/step - loss: 107.7049 - mae: 107.7049 - val_loss: 572.9934 - val_mae: 572.9934\n",
      "Epoch 75/100\n",
      "18/18 [==============================] - 0s 2ms/step - loss: 108.1179 - mae: 108.1179 - val_loss: 583.9371 - val_mae: 583.9371\n",
      "Epoch 76/100\n",
      "18/18 [==============================] - 0s 2ms/step - loss: 109.5447 - mae: 109.5447 - val_loss: 592.8237 - val_mae: 592.8237\n",
      "Epoch 77/100\n",
      "18/18 [==============================] - 0s 2ms/step - loss: 108.3639 - mae: 108.3639 - val_loss: 575.4261 - val_mae: 575.4261\n",
      "Epoch 78/100\n",
      "18/18 [==============================] - 0s 2ms/step - loss: 108.0055 - mae: 108.0055 - val_loss: 574.3941 - val_mae: 574.3941\n",
      "Epoch 79/100\n",
      "18/18 [==============================] - 0s 2ms/step - loss: 107.3223 - mae: 107.3223 - val_loss: 597.2482 - val_mae: 597.2482\n",
      "Epoch 80/100\n",
      "18/18 [==============================] - 0s 2ms/step - loss: 108.1452 - mae: 108.1452 - val_loss: 586.6865 - val_mae: 586.6865\n",
      "Epoch 81/100\n",
      "18/18 [==============================] - 0s 2ms/step - loss: 106.1153 - mae: 106.1153 - val_loss: 575.1765 - val_mae: 575.1765\n",
      "Epoch 82/100\n",
      "18/18 [==============================] - 0s 2ms/step - loss: 116.6343 - mae: 116.6343 - val_loss: 575.4343 - val_mae: 575.4343\n",
      "Epoch 83/100\n",
      "18/18 [==============================] - 0s 2ms/step - loss: 110.8731 - mae: 110.8731 - val_loss: 654.5371 - val_mae: 654.5371\n",
      "Epoch 84/100\n",
      " 1/18 [>.............................] - ETA: 0s - loss: 118.1786 - mae: 118.1786INFO:tensorflow:Assets written to: model_experiments/model_1_dense/assets\n",
      "18/18 [==============================] - 0s 20ms/step - loss: 111.9106 - mae: 111.9106 - val_loss: 572.3371 - val_mae: 572.3371\n",
      "Epoch 85/100\n",
      "18/18 [==============================] - 0s 2ms/step - loss: 106.6154 - mae: 106.6154 - val_loss: 574.2831 - val_mae: 574.2831\n",
      "Epoch 86/100\n",
      "18/18 [==============================] - 0s 2ms/step - loss: 108.4299 - mae: 108.4299 - val_loss: 583.3528 - val_mae: 583.3528\n",
      "Epoch 87/100\n",
      "18/18 [==============================] - 0s 2ms/step - loss: 105.7481 - mae: 105.7481 - val_loss: 593.0125 - val_mae: 593.0125\n",
      "Epoch 88/100\n",
      " 1/18 [>.............................] - ETA: 0s - loss: 133.8444 - mae: 133.8444INFO:tensorflow:Assets written to: model_experiments/model_1_dense/assets\n",
      "18/18 [==============================] - 0s 22ms/step - loss: 107.2604 - mae: 107.2604 - val_loss: 571.7660 - val_mae: 571.7660\n",
      "Epoch 89/100\n",
      " 1/18 [>.............................] - ETA: 0s - loss: 102.2973 - mae: 102.2973INFO:tensorflow:Assets written to: model_experiments/model_1_dense/assets\n",
      "18/18 [==============================] - 0s 23ms/step - loss: 106.7823 - mae: 106.7823 - val_loss: 568.6371 - val_mae: 568.6371\n",
      "Epoch 90/100\n",
      "18/18 [==============================] - 0s 2ms/step - loss: 105.8681 - mae: 105.8681 - val_loss: 602.9688 - val_mae: 602.9688\n",
      "Epoch 91/100\n",
      "18/18 [==============================] - 0s 3ms/step - loss: 110.6365 - mae: 110.6365 - val_loss: 605.6949 - val_mae: 605.6949\n",
      "Epoch 92/100\n",
      "18/18 [==============================] - 0s 2ms/step - loss: 109.4669 - mae: 109.4669 - val_loss: 572.4371 - val_mae: 572.4371\n",
      "Epoch 93/100\n",
      "18/18 [==============================] - 0s 2ms/step - loss: 113.0063 - mae: 113.0063 - val_loss: 617.3005 - val_mae: 617.3005\n",
      "Epoch 94/100\n",
      "18/18 [==============================] - 0s 2ms/step - loss: 112.4903 - mae: 112.4903 - val_loss: 599.9797 - val_mae: 599.9797\n",
      "Epoch 95/100\n",
      "18/18 [==============================] - 0s 2ms/step - loss: 106.0053 - mae: 106.0053 - val_loss: 570.6211 - val_mae: 570.6211\n",
      "Epoch 96/100\n",
      "18/18 [==============================] - 0s 2ms/step - loss: 109.5910 - mae: 109.5910 - val_loss: 676.3400 - val_mae: 676.3400\n",
      "Epoch 97/100\n",
      "18/18 [==============================] - 0s 2ms/step - loss: 110.2213 - mae: 110.2213 - val_loss: 574.2986 - val_mae: 574.2986\n",
      "Epoch 98/100\n",
      "18/18 [==============================] - 0s 2ms/step - loss: 106.7290 - mae: 106.7290 - val_loss: 576.7735 - val_mae: 576.7735\n",
      "Epoch 99/100\n",
      " 1/18 [>.............................] - ETA: 0s - loss: 151.1014 - mae: 151.1014INFO:tensorflow:Assets written to: model_experiments/model_1_dense/assets\n",
      "18/18 [==============================] - 0s 23ms/step - loss: 106.9889 - mae: 106.9889 - val_loss: 568.5498 - val_mae: 568.5498\n",
      "Epoch 100/100\n",
      "18/18 [==============================] - 0s 2ms/step - loss: 117.7622 - mae: 117.7622 - val_loss: 662.5316 - val_mae: 662.5316\n"
     ]
    },
    {
     "data": {
      "text/plain": [
       "<keras.callbacks.History at 0x16758f790>"
      ]
     },
     "execution_count": 36,
     "metadata": {},
     "output_type": "execute_result"
    }
   ],
   "source": [
    "import tensorflow as tf\n",
    "from tensorflow.keras import layers\n",
    "\n",
    "# Set random seed for as reproducible results as possible\n",
    "tf.random.set_seed(42)\n",
    "\n",
    "# Construct model\n",
    "model_1 = tf.keras.Sequential([\n",
    "  layers.Dense(128, activation=\"relu\"),\n",
    "  layers.Dense(HORIZON, activation=\"linear\") # linear activation is the same as having no activation                        \n",
    "], name=\"model_1_dense\") # give the model a name so we can save it\n",
    "\n",
    "# Compile model\n",
    "model_1.compile(loss=\"mae\",\n",
    "                optimizer=tf.keras.optimizers.Adam(),\n",
    "                metrics=[\"mae\"]) # we don't necessarily need this when the loss function is already MAE\n",
    "\n",
    "# Fit model\n",
    "model_1.fit(x=train_windows, # train windows of 7 timesteps of Bitcoin prices\n",
    "            y=train_labels, # horizon value of 1 (using the previous 7 timesteps to predict next day)\n",
    "            epochs=100,\n",
    "            verbose=1,\n",
    "            batch_size=128,\n",
    "            validation_data=(test_windows, test_labels),\n",
    "            callbacks=[create_model_checkpoint(model_name=model_1.name)]) # create ModelCheckpoint callback to save best model"
   ]
  },
  {
   "cell_type": "code",
   "execution_count": 37,
   "metadata": {},
   "outputs": [
    {
     "name": "stdout",
     "output_type": "stream",
     "text": [
      "18/18 [==============================] - 0s 749us/step - loss: 662.5316 - mae: 662.5316\n"
     ]
    },
    {
     "data": {
      "text/plain": [
       "[662.5316162109375, 662.5316162109375]"
      ]
     },
     "execution_count": 37,
     "metadata": {},
     "output_type": "execute_result"
    }
   ],
   "source": [
    "# Evaluate model on test data\n",
    "model_1.evaluate(test_windows, test_labels)"
   ]
  },
  {
   "cell_type": "code",
   "execution_count": 38,
   "metadata": {},
   "outputs": [
    {
     "name": "stdout",
     "output_type": "stream",
     "text": [
      "18/18 [==============================] - 0s 735us/step - loss: 568.5498 - mae: 568.5498\n"
     ]
    },
    {
     "data": {
      "text/plain": [
       "[568.5498046875, 568.5498046875]"
      ]
     },
     "execution_count": 38,
     "metadata": {},
     "output_type": "execute_result"
    }
   ],
   "source": [
    "# Load in saved best performing model_1 and evaluate on test data\n",
    "model_1 = tf.keras.models.load_model(\"model_experiments/model_1_dense\")\n",
    "model_1.evaluate(test_windows, test_labels)"
   ]
  },
  {
   "cell_type": "code",
   "execution_count": 39,
   "metadata": {},
   "outputs": [],
   "source": [
    "def make_preds(model, input_data):\n",
    "  \"\"\"\n",
    "  Uses model to make predictions on input_data.\n",
    "\n",
    "  Parameters\n",
    "  ----------\n",
    "  model: trained model \n",
    "  input_data: windowed input data (same kind of data model was trained on)\n",
    "\n",
    "  Returns model predictions on input_data.\n",
    "  \"\"\"\n",
    "  forecast = model.predict(input_data)\n",
    "  return tf.squeeze(forecast) # return 1D array of predictions"
   ]
  },
  {
   "cell_type": "code",
   "execution_count": 40,
   "metadata": {},
   "outputs": [
    {
     "data": {
      "text/plain": [
       "(556,\n",
       " <tf.Tensor: shape=(10,), dtype=float32, numpy=\n",
       " array([8874.493, 8789.944, 9040.986, 8804.83 , 8741.211, 8749.837,\n",
       "        8705.866, 8513.171, 8478.415, 8536.302], dtype=float32)>)"
      ]
     },
     "execution_count": 40,
     "metadata": {},
     "output_type": "execute_result"
    }
   ],
   "source": [
    "# Make predictions using model_1 on the test dataset and view the results\n",
    "model_1_preds = make_preds(model_1, test_windows)\n",
    "len(model_1_preds), model_1_preds[:10]"
   ]
  },
  {
   "cell_type": "code",
   "execution_count": 41,
   "metadata": {},
   "outputs": [
    {
     "data": {
      "text/plain": [
       "{'mae': 568.54987,\n",
       " 'mse': 1172587.6,\n",
       " 'rmse': 1082.8608,\n",
       " 'mape': 2.5492291,\n",
       " 'mase': 0.99878466}"
      ]
     },
     "execution_count": 41,
     "metadata": {},
     "output_type": "execute_result"
    }
   ],
   "source": [
    "# Evaluate preds\n",
    "model_1_results = evaluate_preds(y_true=tf.squeeze(test_labels), # reduce to right shape\n",
    "                                 y_pred=model_1_preds)\n",
    "model_1_results"
   ]
  },
  {
   "cell_type": "code",
   "execution_count": 42,
   "metadata": {},
   "outputs": [
    {
     "data": {
      "text/plain": [
       "{'mae': 567.9802,\n",
       " 'mse': 1147547.0,\n",
       " 'rmse': 1071.2362,\n",
       " 'mape': 2.516525,\n",
       " 'mase': 0.99957}"
      ]
     },
     "execution_count": 42,
     "metadata": {},
     "output_type": "execute_result"
    }
   ],
   "source": [
    "naive_results"
   ]
  },
  {
   "cell_type": "code",
   "execution_count": 43,
   "metadata": {},
   "outputs": [
    {
     "data": {
      "image/png": "[encoded data removed]",
      "text/plain": [
       "<Figure size 720x504 with 1 Axes>"
      ]
     },
     "metadata": {
      "needs_background": "light"
     },
     "output_type": "display_data"
    }
   ],
   "source": [
    "offset = 300\n",
    "plt.figure(figsize=(10, 7))\n",
    "# Account for the test_window offset and index into test_labels to ensure correct plotting\n",
    "plot_time_series(timesteps=X_test[-len(test_windows):], values=test_labels[:, 0], start=offset, label=\"Test_data\")\n",
    "plot_time_series(timesteps=X_test[-len(test_windows):], values=model_1_preds, start=offset, format=\"-\", label=\"model_1_preds\")"
   ]
  },
  {
   "cell_type": "code",
   "execution_count": 44,
   "metadata": {},
   "outputs": [],
   "source": [
    "HORIZON = 1 # predict one step at a time\n",
    "WINDOW_SIZE = 30 # use 30 timesteps in the past"
   ]
  },
  {
   "cell_type": "code",
   "execution_count": 45,
   "metadata": {},
   "outputs": [
    {
     "data": {
      "text/plain": [
       "(2757, 2757)"
      ]
     },
     "execution_count": 45,
     "metadata": {},
     "output_type": "execute_result"
    }
   ],
   "source": [
    "# Make windowed data with appropriate horizon and window sizes\n",
    "full_windows, full_labels = make_windows(prices, window_size=WINDOW_SIZE, horizon=HORIZON)\n",
    "len(full_windows), len(full_labels)"
   ]
  },
  {
   "cell_type": "code",
   "execution_count": 46,
   "metadata": {},
   "outputs": [
    {
     "data": {
      "text/plain": [
       "(2205, 552, 2205, 552)"
      ]
     },
     "execution_count": 46,
     "metadata": {},
     "output_type": "execute_result"
    }
   ],
   "source": [
    "# Make train and testing windows\n",
    "train_windows, test_windows, train_labels, test_labels = make_train_test_splits(windows=full_windows, labels=full_labels)\n",
    "len(train_windows), len(test_windows), len(train_labels), len(test_labels)"
   ]
  },
  {
   "cell_type": "code",
   "execution_count": 47,
   "metadata": {},
   "outputs": [
    {
     "name": "stdout",
     "output_type": "stream",
     "text": [
      "INFO:tensorflow:Assets written to: model_experiments/model_2_dense/assets\n",
      "INFO:tensorflow:Assets written to: model_experiments/model_2_dense/assets\n",
      "INFO:tensorflow:Assets written to: model_experiments/model_2_dense/assets\n",
      "INFO:tensorflow:Assets written to: model_experiments/model_2_dense/assets\n",
      "INFO:tensorflow:Assets written to: model_experiments/model_2_dense/assets\n",
      "INFO:tensorflow:Assets written to: model_experiments/model_2_dense/assets\n",
      "INFO:tensorflow:Assets written to: model_experiments/model_2_dense/assets\n",
      "INFO:tensorflow:Assets written to: model_experiments/model_2_dense/assets\n",
      "INFO:tensorflow:Assets written to: model_experiments/model_2_dense/assets\n",
      "INFO:tensorflow:Assets written to: model_experiments/model_2_dense/assets\n",
      "INFO:tensorflow:Assets written to: model_experiments/model_2_dense/assets\n",
      "INFO:tensorflow:Assets written to: model_experiments/model_2_dense/assets\n",
      "INFO:tensorflow:Assets written to: model_experiments/model_2_dense/assets\n",
      "INFO:tensorflow:Assets written to: model_experiments/model_2_dense/assets\n",
      "INFO:tensorflow:Assets written to: model_experiments/model_2_dense/assets\n",
      "INFO:tensorflow:Assets written to: model_experiments/model_2_dense/assets\n",
      "INFO:tensorflow:Assets written to: model_experiments/model_2_dense/assets\n",
      "INFO:tensorflow:Assets written to: model_experiments/model_2_dense/assets\n",
      "INFO:tensorflow:Assets written to: model_experiments/model_2_dense/assets\n",
      "INFO:tensorflow:Assets written to: model_experiments/model_2_dense/assets\n",
      "INFO:tensorflow:Assets written to: model_experiments/model_2_dense/assets\n",
      "INFO:tensorflow:Assets written to: model_experiments/model_2_dense/assets\n",
      "INFO:tensorflow:Assets written to: model_experiments/model_2_dense/assets\n",
      "INFO:tensorflow:Assets written to: model_experiments/model_2_dense/assets\n",
      "INFO:tensorflow:Assets written to: model_experiments/model_2_dense/assets\n",
      "INFO:tensorflow:Assets written to: model_experiments/model_2_dense/assets\n",
      "INFO:tensorflow:Assets written to: model_experiments/model_2_dense/assets\n",
      "INFO:tensorflow:Assets written to: model_experiments/model_2_dense/assets\n",
      "INFO:tensorflow:Assets written to: model_experiments/model_2_dense/assets\n",
      "INFO:tensorflow:Assets written to: model_experiments/model_2_dense/assets\n"
     ]
    },
    {
     "data": {
      "text/plain": [
       "<keras.callbacks.History at 0x1686249d0>"
      ]
     },
     "execution_count": 47,
     "metadata": {},
     "output_type": "execute_result"
    }
   ],
   "source": [
    "tf.random.set_seed(42)\n",
    "\n",
    "# Create model (same model as model 1 but data input will be different)\n",
    "model_2 = tf.keras.Sequential([\n",
    "  layers.Dense(128, activation=\"relu\"),\n",
    "  layers.Dense(HORIZON) # need to predict horizon number of steps into the future\n",
    "], name=\"model_2_dense\")\n",
    "\n",
    "model_2.compile(loss=\"mae\",\n",
    "                optimizer=tf.keras.optimizers.Adam())\n",
    "\n",
    "model_2.fit(train_windows,\n",
    "            train_labels,\n",
    "            epochs=100,\n",
    "            batch_size=128,\n",
    "            verbose=0,\n",
    "            validation_data=(test_windows, test_labels),\n",
    "            callbacks=[create_model_checkpoint(model_name=model_2.name)])"
   ]
  },
  {
   "cell_type": "code",
   "execution_count": 48,
   "metadata": {},
   "outputs": [
    {
     "name": "stdout",
     "output_type": "stream",
     "text": [
      "18/18 [==============================] - 0s 736us/step - loss: 658.0291\n"
     ]
    },
    {
     "data": {
      "text/plain": [
       "658.029052734375"
      ]
     },
     "execution_count": 48,
     "metadata": {},
     "output_type": "execute_result"
    }
   ],
   "source": [
    "# Evaluate model 2 preds\n",
    "model_2.evaluate(test_windows, test_labels)"
   ]
  },
  {
   "cell_type": "code",
   "execution_count": 49,
   "metadata": {},
   "outputs": [
    {
     "name": "stdout",
     "output_type": "stream",
     "text": [
      "18/18 [==============================] - 0s 657us/step - loss: 608.8481\n"
     ]
    },
    {
     "data": {
      "text/plain": [
       "608.8480834960938"
      ]
     },
     "execution_count": 49,
     "metadata": {},
     "output_type": "execute_result"
    }
   ],
   "source": [
    "# Load in best performing model\n",
    "model_2 = tf.keras.models.load_model(\"model_experiments/model_2_dense/\")\n",
    "model_2.evaluate(test_windows, test_labels)"
   ]
  },
  {
   "cell_type": "code",
   "execution_count": 50,
   "metadata": {},
   "outputs": [],
   "source": [
    "def evaluate_preds(y_true, y_pred):\n",
    "  # Make sure float32 (for metric calculations)\n",
    "  y_true = tf.cast(y_true, dtype=tf.float32)\n",
    "  y_pred = tf.cast(y_pred, dtype=tf.float32)\n",
    "\n",
    "  # Calculate various metrics\n",
    "  mae = tf.keras.metrics.mean_absolute_error(y_true, y_pred)\n",
    "  mse = tf.keras.metrics.mean_squared_error(y_true, y_pred)\n",
    "  rmse = tf.sqrt(mse)\n",
    "  mape = tf.keras.metrics.mean_absolute_percentage_error(y_true, y_pred)\n",
    "  mase = mean_absolute_scaled_error(y_true, y_pred)\n",
    "\n",
    "  # Account for different sized metrics (for longer horizons, reduce to single number)\n",
    "  if mae.ndim > 0: # if mae isn't already a scalar, reduce it to one by aggregating tensors to mean\n",
    "    mae = tf.reduce_mean(mae)\n",
    "    mse = tf.reduce_mean(mse)\n",
    "    rmse = tf.reduce_mean(rmse)\n",
    "    mape = tf.reduce_mean(mape)\n",
    "    mase = tf.reduce_mean(mase)\n",
    "\n",
    "  return {\"mae\": mae.numpy(),\n",
    "          \"mse\": mse.numpy(),\n",
    "          \"rmse\": rmse.numpy(),\n",
    "          \"mape\": mape.numpy(),\n",
    "          \"mase\": mase.numpy()}"
   ]
  },
  {
   "cell_type": "code",
   "execution_count": null,
   "metadata": {},
   "outputs": [],
   "source": [
    "HORIZON = 1 # predict next day\n",
    "WINDOW_SIZE = 7 # use previous week worth of data"
   ]
  },
  {
   "cell_type": "code",
   "execution_count": 52,
   "metadata": {},
   "outputs": [
    {
     "data": {
      "text/plain": [
       "(2757, 2757)"
      ]
     },
     "execution_count": 52,
     "metadata": {},
     "output_type": "execute_result"
    }
   ],
   "source": [
    "# Create windowed dataset\n",
    "full_windows, full_labels = make_windows(prices, window_size=WINDOW_SIZE, horizon=HORIZON)\n",
    "len(full_windows), len(full_labels)"
   ]
  },
  {
   "cell_type": "code",
   "execution_count": 53,
   "metadata": {},
   "outputs": [
    {
     "data": {
      "text/plain": [
       "(2205, 552, 2205, 552)"
      ]
     },
     "execution_count": 53,
     "metadata": {},
     "output_type": "execute_result"
    }
   ],
   "source": [
    "# Create train/test splits\n",
    "train_windows, test_windows, train_labels, test_labels = make_train_test_splits(full_windows, full_labels)\n",
    "len(train_windows), len(test_windows), len(train_labels), len(test_labels)"
   ]
  },
  {
   "cell_type": "code",
   "execution_count": 54,
   "metadata": {},
   "outputs": [
    {
     "data": {
      "text/plain": [
       "(30,)"
      ]
     },
     "execution_count": 54,
     "metadata": {},
     "output_type": "execute_result"
    }
   ],
   "source": [
    "# Check data sample shapes\n",
    "train_windows[0].shape # returns (WINDOW_SIZE, )"
   ]
  },
  {
   "cell_type": "code",
   "execution_count": 55,
   "metadata": {},
   "outputs": [
    {
     "name": "stdout",
     "output_type": "stream",
     "text": [
      "Original shape: (30,)\n",
      "Expanded shape: (30, 1)\n",
      "Original values with expanded shape:\n",
      " [[123.65499]\n",
      " [125.455  ]\n",
      " [108.58483]\n",
      " [118.67466]\n",
      " [121.33866]\n",
      " [120.65533]\n",
      " [121.795  ]\n",
      " [123.033  ]\n",
      " [124.049  ]\n",
      " [125.96116]\n",
      " [125.27966]\n",
      " [125.9275 ]\n",
      " [126.38333]\n",
      " [135.24199]\n",
      " [133.20332]\n",
      " [142.76334]\n",
      " [137.92332]\n",
      " [142.95166]\n",
      " [152.55183]\n",
      " [160.33884]\n",
      " [164.31499]\n",
      " [177.63333]\n",
      " [188.29716]\n",
      " [200.70166]\n",
      " [180.355  ]\n",
      " [175.03166]\n",
      " [177.6965 ]\n",
      " [187.15984]\n",
      " [192.75665]\n",
      " [197.4    ]]\n"
     ]
    }
   ],
   "source": [
    "# Before we pass our data to the Conv1D layer, we have to reshape it in order to make sure it works\n",
    "x = tf.constant(train_windows[0])\n",
    "expand_dims_layer = layers.Lambda(lambda x: tf.expand_dims(x, axis=1)) # add an extra dimension for timesteps\n",
    "print(f\"Original shape: {x.shape}\") # (WINDOW_SIZE)\n",
    "print(f\"Expanded shape: {expand_dims_layer(x).shape}\") # (WINDOW_SIZE, input_dim) \n",
    "print(f\"Original values with expanded shape:\\n {expand_dims_layer(x)}\")"
   ]
  },
  {
   "cell_type": "code",
   "execution_count": 56,
   "metadata": {},
   "outputs": [
    {
     "name": "stdout",
     "output_type": "stream",
     "text": [
      "INFO:tensorflow:Assets written to: model_experiments/model_4_conv1D/assets\n",
      "INFO:tensorflow:Assets written to: model_experiments/model_4_conv1D/assets\n",
      "INFO:tensorflow:Assets written to: model_experiments/model_4_conv1D/assets\n",
      "INFO:tensorflow:Assets written to: model_experiments/model_4_conv1D/assets\n",
      "INFO:tensorflow:Assets written to: model_experiments/model_4_conv1D/assets\n",
      "INFO:tensorflow:Assets written to: model_experiments/model_4_conv1D/assets\n",
      "INFO:tensorflow:Assets written to: model_experiments/model_4_conv1D/assets\n",
      "INFO:tensorflow:Assets written to: model_experiments/model_4_conv1D/assets\n",
      "INFO:tensorflow:Assets written to: model_experiments/model_4_conv1D/assets\n",
      "INFO:tensorflow:Assets written to: model_experiments/model_4_conv1D/assets\n",
      "INFO:tensorflow:Assets written to: model_experiments/model_4_conv1D/assets\n",
      "INFO:tensorflow:Assets written to: model_experiments/model_4_conv1D/assets\n",
      "INFO:tensorflow:Assets written to: model_experiments/model_4_conv1D/assets\n",
      "INFO:tensorflow:Assets written to: model_experiments/model_4_conv1D/assets\n",
      "INFO:tensorflow:Assets written to: model_experiments/model_4_conv1D/assets\n",
      "INFO:tensorflow:Assets written to: model_experiments/model_4_conv1D/assets\n",
      "INFO:tensorflow:Assets written to: model_experiments/model_4_conv1D/assets\n",
      "INFO:tensorflow:Assets written to: model_experiments/model_4_conv1D/assets\n",
      "INFO:tensorflow:Assets written to: model_experiments/model_4_conv1D/assets\n",
      "INFO:tensorflow:Assets written to: model_experiments/model_4_conv1D/assets\n",
      "INFO:tensorflow:Assets written to: model_experiments/model_4_conv1D/assets\n",
      "INFO:tensorflow:Assets written to: model_experiments/model_4_conv1D/assets\n",
      "INFO:tensorflow:Assets written to: model_experiments/model_4_conv1D/assets\n",
      "INFO:tensorflow:Assets written to: model_experiments/model_4_conv1D/assets\n",
      "INFO:tensorflow:Assets written to: model_experiments/model_4_conv1D/assets\n",
      "INFO:tensorflow:Assets written to: model_experiments/model_4_conv1D/assets\n"
     ]
    },
    {
     "data": {
      "text/plain": [
       "<keras.callbacks.History at 0x1681d8970>"
      ]
     },
     "execution_count": 56,
     "metadata": {},
     "output_type": "execute_result"
    }
   ],
   "source": [
    "tf.random.set_seed(42)\n",
    "\n",
    "# Create model\n",
    "model_4 = tf.keras.Sequential([\n",
    "  # Create Lambda layer to reshape inputs, without this layer, the model will error\n",
    "  layers.Lambda(lambda x: tf.expand_dims(x, axis=1)), # resize the inputs to adjust for window size / Conv1D 3D input requirements\n",
    "  layers.Conv1D(filters=128, kernel_size=5, padding=\"causal\", activation=\"relu\"),\n",
    "  layers.Dense(HORIZON)\n",
    "], name=\"model_4_conv1D\")\n",
    "\n",
    "# Compile model\n",
    "model_4.compile(loss=\"mae\",\n",
    "                optimizer=tf.keras.optimizers.Adam())\n",
    "\n",
    "# Fit model\n",
    "model_4.fit(train_windows,\n",
    "            train_labels,\n",
    "            batch_size=128, \n",
    "            epochs=100,\n",
    "            verbose=0,\n",
    "            validation_data=(test_windows, test_labels),\n",
    "            callbacks=[create_model_checkpoint(model_name=model_4.name)])"
   ]
  },
  {
   "cell_type": "code",
   "execution_count": 57,
   "metadata": {},
   "outputs": [
    {
     "name": "stdout",
     "output_type": "stream",
     "text": [
      "18/18 [==============================] - 0s 808us/step - loss: 606.2954\n"
     ]
    },
    {
     "data": {
      "text/plain": [
       "606.29541015625"
      ]
     },
     "execution_count": 57,
     "metadata": {},
     "output_type": "execute_result"
    }
   ],
   "source": [
    "# Load in best performing Conv1D model and evaluate it on the test data\n",
    "model_4 = tf.keras.models.load_model(\"model_experiments/model_4_conv1D\")\n",
    "model_4.evaluate(test_windows, test_labels)"
   ]
  },
  {
   "cell_type": "code",
   "execution_count": 58,
   "metadata": {},
   "outputs": [
    {
     "data": {
      "text/plain": [
       "<tf.Tensor: shape=(10,), dtype=float32, numpy=\n",
       "array([8745.854 , 8810.374 , 8760.008 , 8520.265 , 8383.061 , 8283.451 ,\n",
       "       8127.139 , 8106.7827, 8055.8687, 7733.7627], dtype=float32)>"
      ]
     },
     "execution_count": 58,
     "metadata": {},
     "output_type": "execute_result"
    }
   ],
   "source": [
    "# Make predictions\n",
    "model_4_preds = make_preds(model_4, test_windows)\n",
    "model_4_preds[:10]"
   ]
  },
  {
   "cell_type": "code",
   "execution_count": 59,
   "metadata": {},
   "outputs": [
    {
     "data": {
      "text/plain": [
       "{'mae': 606.2954,\n",
       " 'mse': 1275998.8,\n",
       " 'rmse': 1129.6012,\n",
       " 'mape': 2.7432098,\n",
       " 'mase': 1.0598103}"
      ]
     },
     "execution_count": 59,
     "metadata": {},
     "output_type": "execute_result"
    }
   ],
   "source": [
    "# Evaluate predictions\n",
    "model_4_results = evaluate_preds(y_true=tf.squeeze(test_labels),\n",
    "                                 y_pred=model_4_preds)\n",
    "model_4_results"
   ]
  },
  {
   "cell_type": "code",
   "execution_count": 60,
   "metadata": {},
   "outputs": [
    {
     "name": "stdout",
     "output_type": "stream",
     "text": [
      "INFO:tensorflow:Assets written to: model_experiments/model_5_lstm/assets\n"
     ]
    },
    {
     "name": "stderr",
     "output_type": "stream",
     "text": [
      "WARNING:absl:<keras.layers.recurrent.LSTMCell object at 0x168674100> has the same name 'LSTMCell' as a built-in Keras object. Consider renaming <class 'keras.layers.recurrent.LSTMCell'> to avoid naming conflicts when loading with `tf.keras.models.load_model`. If renaming is not possible, pass the object in the `custom_objects` parameter of the load function.\n"
     ]
    },
    {
     "name": "stdout",
     "output_type": "stream",
     "text": [
      "INFO:tensorflow:Assets written to: model_experiments/model_5_lstm/assets\n"
     ]
    },
    {
     "name": "stderr",
     "output_type": "stream",
     "text": [
      "INFO:tensorflow:Assets written to: model_experiments/model_5_lstm/assets\n",
      "WARNING:absl:<keras.layers.recurrent.LSTMCell object at 0x168674100> has the same name 'LSTMCell' as a built-in Keras object. Consider renaming <class 'keras.layers.recurrent.LSTMCell'> to avoid naming conflicts when loading with `tf.keras.models.load_model`. If renaming is not possible, pass the object in the `custom_objects` parameter of the load function.\n"
     ]
    },
    {
     "name": "stdout",
     "output_type": "stream",
     "text": [
      "INFO:tensorflow:Assets written to: model_experiments/model_5_lstm/assets\n"
     ]
    },
    {
     "name": "stderr",
     "output_type": "stream",
     "text": [
      "INFO:tensorflow:Assets written to: model_experiments/model_5_lstm/assets\n",
      "WARNING:absl:<keras.layers.recurrent.LSTMCell object at 0x168674100> has the same name 'LSTMCell' as a built-in Keras object. Consider renaming <class 'keras.layers.recurrent.LSTMCell'> to avoid naming conflicts when loading with `tf.keras.models.load_model`. If renaming is not possible, pass the object in the `custom_objects` parameter of the load function.\n"
     ]
    },
    {
     "name": "stdout",
     "output_type": "stream",
     "text": [
      "INFO:tensorflow:Assets written to: model_experiments/model_5_lstm/assets\n"
     ]
    },
    {
     "name": "stderr",
     "output_type": "stream",
     "text": [
      "INFO:tensorflow:Assets written to: model_experiments/model_5_lstm/assets\n",
      "WARNING:absl:<keras.layers.recurrent.LSTMCell object at 0x168674100> has the same name 'LSTMCell' as a built-in Keras object. Consider renaming <class 'keras.layers.recurrent.LSTMCell'> to avoid naming conflicts when loading with `tf.keras.models.load_model`. If renaming is not possible, pass the object in the `custom_objects` parameter of the load function.\n"
     ]
    },
    {
     "name": "stdout",
     "output_type": "stream",
     "text": [
      "INFO:tensorflow:Assets written to: model_experiments/model_5_lstm/assets\n"
     ]
    },
    {
     "name": "stderr",
     "output_type": "stream",
     "text": [
      "INFO:tensorflow:Assets written to: model_experiments/model_5_lstm/assets\n",
      "WARNING:absl:<keras.layers.recurrent.LSTMCell object at 0x168674100> has the same name 'LSTMCell' as a built-in Keras object. Consider renaming <class 'keras.layers.recurrent.LSTMCell'> to avoid naming conflicts when loading with `tf.keras.models.load_model`. If renaming is not possible, pass the object in the `custom_objects` parameter of the load function.\n"
     ]
    },
    {
     "name": "stdout",
     "output_type": "stream",
     "text": [
      "INFO:tensorflow:Assets written to: model_experiments/model_5_lstm/assets\n"
     ]
    },
    {
     "name": "stderr",
     "output_type": "stream",
     "text": [
      "INFO:tensorflow:Assets written to: model_experiments/model_5_lstm/assets\n",
      "WARNING:absl:<keras.layers.recurrent.LSTMCell object at 0x168674100> has the same name 'LSTMCell' as a built-in Keras object. Consider renaming <class 'keras.layers.recurrent.LSTMCell'> to avoid naming conflicts when loading with `tf.keras.models.load_model`. If renaming is not possible, pass the object in the `custom_objects` parameter of the load function.\n"
     ]
    },
    {
     "name": "stdout",
     "output_type": "stream",
     "text": [
      "INFO:tensorflow:Assets written to: model_experiments/model_5_lstm/assets\n"
     ]
    },
    {
     "name": "stderr",
     "output_type": "stream",
     "text": [
      "INFO:tensorflow:Assets written to: model_experiments/model_5_lstm/assets\n",
      "WARNING:absl:<keras.layers.recurrent.LSTMCell object at 0x168674100> has the same name 'LSTMCell' as a built-in Keras object. Consider renaming <class 'keras.layers.recurrent.LSTMCell'> to avoid naming conflicts when loading with `tf.keras.models.load_model`. If renaming is not possible, pass the object in the `custom_objects` parameter of the load function.\n"
     ]
    },
    {
     "name": "stdout",
     "output_type": "stream",
     "text": [
      "INFO:tensorflow:Assets written to: model_experiments/model_5_lstm/assets\n"
     ]
    },
    {
     "name": "stderr",
     "output_type": "stream",
     "text": [
      "INFO:tensorflow:Assets written to: model_experiments/model_5_lstm/assets\n",
      "WARNING:absl:<keras.layers.recurrent.LSTMCell object at 0x168674100> has the same name 'LSTMCell' as a built-in Keras object. Consider renaming <class 'keras.layers.recurrent.LSTMCell'> to avoid naming conflicts when loading with `tf.keras.models.load_model`. If renaming is not possible, pass the object in the `custom_objects` parameter of the load function.\n"
     ]
    },
    {
     "name": "stdout",
     "output_type": "stream",
     "text": [
      "INFO:tensorflow:Assets written to: model_experiments/model_5_lstm/assets\n"
     ]
    },
    {
     "name": "stderr",
     "output_type": "stream",
     "text": [
      "INFO:tensorflow:Assets written to: model_experiments/model_5_lstm/assets\n",
      "WARNING:absl:<keras.layers.recurrent.LSTMCell object at 0x168674100> has the same name 'LSTMCell' as a built-in Keras object. Consider renaming <class 'keras.layers.recurrent.LSTMCell'> to avoid naming conflicts when loading with `tf.keras.models.load_model`. If renaming is not possible, pass the object in the `custom_objects` parameter of the load function.\n"
     ]
    },
    {
     "name": "stdout",
     "output_type": "stream",
     "text": [
      "INFO:tensorflow:Assets written to: model_experiments/model_5_lstm/assets\n"
     ]
    },
    {
     "name": "stderr",
     "output_type": "stream",
     "text": [
      "INFO:tensorflow:Assets written to: model_experiments/model_5_lstm/assets\n",
      "WARNING:absl:<keras.layers.recurrent.LSTMCell object at 0x168674100> has the same name 'LSTMCell' as a built-in Keras object. Consider renaming <class 'keras.layers.recurrent.LSTMCell'> to avoid naming conflicts when loading with `tf.keras.models.load_model`. If renaming is not possible, pass the object in the `custom_objects` parameter of the load function.\n"
     ]
    },
    {
     "name": "stdout",
     "output_type": "stream",
     "text": [
      "INFO:tensorflow:Assets written to: model_experiments/model_5_lstm/assets\n"
     ]
    },
    {
     "name": "stderr",
     "output_type": "stream",
     "text": [
      "INFO:tensorflow:Assets written to: model_experiments/model_5_lstm/assets\n",
      "WARNING:absl:<keras.layers.recurrent.LSTMCell object at 0x168674100> has the same name 'LSTMCell' as a built-in Keras object. Consider renaming <class 'keras.layers.recurrent.LSTMCell'> to avoid naming conflicts when loading with `tf.keras.models.load_model`. If renaming is not possible, pass the object in the `custom_objects` parameter of the load function.\n"
     ]
    },
    {
     "name": "stdout",
     "output_type": "stream",
     "text": [
      "INFO:tensorflow:Assets written to: model_experiments/model_5_lstm/assets\n"
     ]
    },
    {
     "name": "stderr",
     "output_type": "stream",
     "text": [
      "INFO:tensorflow:Assets written to: model_experiments/model_5_lstm/assets\n",
      "WARNING:absl:<keras.layers.recurrent.LSTMCell object at 0x168674100> has the same name 'LSTMCell' as a built-in Keras object. Consider renaming <class 'keras.layers.recurrent.LSTMCell'> to avoid naming conflicts when loading with `tf.keras.models.load_model`. If renaming is not possible, pass the object in the `custom_objects` parameter of the load function.\n"
     ]
    },
    {
     "name": "stdout",
     "output_type": "stream",
     "text": [
      "INFO:tensorflow:Assets written to: model_experiments/model_5_lstm/assets\n"
     ]
    },
    {
     "name": "stderr",
     "output_type": "stream",
     "text": [
      "INFO:tensorflow:Assets written to: model_experiments/model_5_lstm/assets\n",
      "WARNING:absl:<keras.layers.recurrent.LSTMCell object at 0x168674100> has the same name 'LSTMCell' as a built-in Keras object. Consider renaming <class 'keras.layers.recurrent.LSTMCell'> to avoid naming conflicts when loading with `tf.keras.models.load_model`. If renaming is not possible, pass the object in the `custom_objects` parameter of the load function.\n"
     ]
    },
    {
     "name": "stdout",
     "output_type": "stream",
     "text": [
      "INFO:tensorflow:Assets written to: model_experiments/model_5_lstm/assets\n"
     ]
    },
    {
     "name": "stderr",
     "output_type": "stream",
     "text": [
      "INFO:tensorflow:Assets written to: model_experiments/model_5_lstm/assets\n",
      "WARNING:absl:<keras.layers.recurrent.LSTMCell object at 0x168674100> has the same name 'LSTMCell' as a built-in Keras object. Consider renaming <class 'keras.layers.recurrent.LSTMCell'> to avoid naming conflicts when loading with `tf.keras.models.load_model`. If renaming is not possible, pass the object in the `custom_objects` parameter of the load function.\n"
     ]
    },
    {
     "name": "stdout",
     "output_type": "stream",
     "text": [
      "INFO:tensorflow:Assets written to: model_experiments/model_5_lstm/assets\n"
     ]
    },
    {
     "name": "stderr",
     "output_type": "stream",
     "text": [
      "INFO:tensorflow:Assets written to: model_experiments/model_5_lstm/assets\n",
      "WARNING:absl:<keras.layers.recurrent.LSTMCell object at 0x168674100> has the same name 'LSTMCell' as a built-in Keras object. Consider renaming <class 'keras.layers.recurrent.LSTMCell'> to avoid naming conflicts when loading with `tf.keras.models.load_model`. If renaming is not possible, pass the object in the `custom_objects` parameter of the load function.\n"
     ]
    },
    {
     "name": "stdout",
     "output_type": "stream",
     "text": [
      "INFO:tensorflow:Assets written to: model_experiments/model_5_lstm/assets\n"
     ]
    },
    {
     "name": "stderr",
     "output_type": "stream",
     "text": [
      "INFO:tensorflow:Assets written to: model_experiments/model_5_lstm/assets\n",
      "WARNING:absl:<keras.layers.recurrent.LSTMCell object at 0x168674100> has the same name 'LSTMCell' as a built-in Keras object. Consider renaming <class 'keras.layers.recurrent.LSTMCell'> to avoid naming conflicts when loading with `tf.keras.models.load_model`. If renaming is not possible, pass the object in the `custom_objects` parameter of the load function.\n"
     ]
    },
    {
     "name": "stdout",
     "output_type": "stream",
     "text": [
      "INFO:tensorflow:Assets written to: model_experiments/model_5_lstm/assets\n"
     ]
    },
    {
     "name": "stderr",
     "output_type": "stream",
     "text": [
      "INFO:tensorflow:Assets written to: model_experiments/model_5_lstm/assets\n",
      "WARNING:absl:<keras.layers.recurrent.LSTMCell object at 0x168674100> has the same name 'LSTMCell' as a built-in Keras object. Consider renaming <class 'keras.layers.recurrent.LSTMCell'> to avoid naming conflicts when loading with `tf.keras.models.load_model`. If renaming is not possible, pass the object in the `custom_objects` parameter of the load function.\n"
     ]
    },
    {
     "name": "stdout",
     "output_type": "stream",
     "text": [
      "INFO:tensorflow:Assets written to: model_experiments/model_5_lstm/assets\n"
     ]
    },
    {
     "name": "stderr",
     "output_type": "stream",
     "text": [
      "INFO:tensorflow:Assets written to: model_experiments/model_5_lstm/assets\n",
      "WARNING:absl:<keras.layers.recurrent.LSTMCell object at 0x168674100> has the same name 'LSTMCell' as a built-in Keras object. Consider renaming <class 'keras.layers.recurrent.LSTMCell'> to avoid naming conflicts when loading with `tf.keras.models.load_model`. If renaming is not possible, pass the object in the `custom_objects` parameter of the load function.\n"
     ]
    },
    {
     "name": "stdout",
     "output_type": "stream",
     "text": [
      "INFO:tensorflow:Assets written to: model_experiments/model_5_lstm/assets\n"
     ]
    },
    {
     "name": "stderr",
     "output_type": "stream",
     "text": [
      "INFO:tensorflow:Assets written to: model_experiments/model_5_lstm/assets\n",
      "WARNING:absl:<keras.layers.recurrent.LSTMCell object at 0x168674100> has the same name 'LSTMCell' as a built-in Keras object. Consider renaming <class 'keras.layers.recurrent.LSTMCell'> to avoid naming conflicts when loading with `tf.keras.models.load_model`. If renaming is not possible, pass the object in the `custom_objects` parameter of the load function.\n"
     ]
    },
    {
     "name": "stdout",
     "output_type": "stream",
     "text": [
      "INFO:tensorflow:Assets written to: model_experiments/model_5_lstm/assets\n"
     ]
    },
    {
     "name": "stderr",
     "output_type": "stream",
     "text": [
      "INFO:tensorflow:Assets written to: model_experiments/model_5_lstm/assets\n",
      "WARNING:absl:<keras.layers.recurrent.LSTMCell object at 0x168674100> has the same name 'LSTMCell' as a built-in Keras object. Consider renaming <class 'keras.layers.recurrent.LSTMCell'> to avoid naming conflicts when loading with `tf.keras.models.load_model`. If renaming is not possible, pass the object in the `custom_objects` parameter of the load function.\n"
     ]
    },
    {
     "name": "stdout",
     "output_type": "stream",
     "text": [
      "INFO:tensorflow:Assets written to: model_experiments/model_5_lstm/assets\n"
     ]
    },
    {
     "name": "stderr",
     "output_type": "stream",
     "text": [
      "INFO:tensorflow:Assets written to: model_experiments/model_5_lstm/assets\n",
      "WARNING:absl:<keras.layers.recurrent.LSTMCell object at 0x168674100> has the same name 'LSTMCell' as a built-in Keras object. Consider renaming <class 'keras.layers.recurrent.LSTMCell'> to avoid naming conflicts when loading with `tf.keras.models.load_model`. If renaming is not possible, pass the object in the `custom_objects` parameter of the load function.\n"
     ]
    },
    {
     "name": "stdout",
     "output_type": "stream",
     "text": [
      "INFO:tensorflow:Assets written to: model_experiments/model_5_lstm/assets\n"
     ]
    },
    {
     "name": "stderr",
     "output_type": "stream",
     "text": [
      "INFO:tensorflow:Assets written to: model_experiments/model_5_lstm/assets\n",
      "WARNING:absl:<keras.layers.recurrent.LSTMCell object at 0x168674100> has the same name 'LSTMCell' as a built-in Keras object. Consider renaming <class 'keras.layers.recurrent.LSTMCell'> to avoid naming conflicts when loading with `tf.keras.models.load_model`. If renaming is not possible, pass the object in the `custom_objects` parameter of the load function.\n"
     ]
    },
    {
     "name": "stdout",
     "output_type": "stream",
     "text": [
      "INFO:tensorflow:Assets written to: model_experiments/model_5_lstm/assets\n"
     ]
    },
    {
     "name": "stderr",
     "output_type": "stream",
     "text": [
      "INFO:tensorflow:Assets written to: model_experiments/model_5_lstm/assets\n",
      "WARNING:absl:<keras.layers.recurrent.LSTMCell object at 0x168674100> has the same name 'LSTMCell' as a built-in Keras object. Consider renaming <class 'keras.layers.recurrent.LSTMCell'> to avoid naming conflicts when loading with `tf.keras.models.load_model`. If renaming is not possible, pass the object in the `custom_objects` parameter of the load function.\n"
     ]
    },
    {
     "name": "stdout",
     "output_type": "stream",
     "text": [
      "INFO:tensorflow:Assets written to: model_experiments/model_5_lstm/assets\n"
     ]
    },
    {
     "name": "stderr",
     "output_type": "stream",
     "text": [
      "INFO:tensorflow:Assets written to: model_experiments/model_5_lstm/assets\n",
      "WARNING:absl:<keras.layers.recurrent.LSTMCell object at 0x168674100> has the same name 'LSTMCell' as a built-in Keras object. Consider renaming <class 'keras.layers.recurrent.LSTMCell'> to avoid naming conflicts when loading with `tf.keras.models.load_model`. If renaming is not possible, pass the object in the `custom_objects` parameter of the load function.\n"
     ]
    },
    {
     "name": "stdout",
     "output_type": "stream",
     "text": [
      "INFO:tensorflow:Assets written to: model_experiments/model_5_lstm/assets\n"
     ]
    },
    {
     "name": "stderr",
     "output_type": "stream",
     "text": [
      "INFO:tensorflow:Assets written to: model_experiments/model_5_lstm/assets\n",
      "WARNING:absl:<keras.layers.recurrent.LSTMCell object at 0x168674100> has the same name 'LSTMCell' as a built-in Keras object. Consider renaming <class 'keras.layers.recurrent.LSTMCell'> to avoid naming conflicts when loading with `tf.keras.models.load_model`. If renaming is not possible, pass the object in the `custom_objects` parameter of the load function.\n"
     ]
    },
    {
     "name": "stdout",
     "output_type": "stream",
     "text": [
      "INFO:tensorflow:Assets written to: model_experiments/model_5_lstm/assets\n"
     ]
    },
    {
     "name": "stderr",
     "output_type": "stream",
     "text": [
      "INFO:tensorflow:Assets written to: model_experiments/model_5_lstm/assets\n",
      "WARNING:absl:<keras.layers.recurrent.LSTMCell object at 0x168674100> has the same name 'LSTMCell' as a built-in Keras object. Consider renaming <class 'keras.layers.recurrent.LSTMCell'> to avoid naming conflicts when loading with `tf.keras.models.load_model`. If renaming is not possible, pass the object in the `custom_objects` parameter of the load function.\n"
     ]
    },
    {
     "name": "stdout",
     "output_type": "stream",
     "text": [
      "INFO:tensorflow:Assets written to: model_experiments/model_5_lstm/assets\n"
     ]
    },
    {
     "name": "stderr",
     "output_type": "stream",
     "text": [
      "INFO:tensorflow:Assets written to: model_experiments/model_5_lstm/assets\n",
      "WARNING:absl:<keras.layers.recurrent.LSTMCell object at 0x168674100> has the same name 'LSTMCell' as a built-in Keras object. Consider renaming <class 'keras.layers.recurrent.LSTMCell'> to avoid naming conflicts when loading with `tf.keras.models.load_model`. If renaming is not possible, pass the object in the `custom_objects` parameter of the load function.\n"
     ]
    },
    {
     "name": "stdout",
     "output_type": "stream",
     "text": [
      "INFO:tensorflow:Assets written to: model_experiments/model_5_lstm/assets\n"
     ]
    },
    {
     "name": "stderr",
     "output_type": "stream",
     "text": [
      "INFO:tensorflow:Assets written to: model_experiments/model_5_lstm/assets\n",
      "WARNING:absl:<keras.layers.recurrent.LSTMCell object at 0x168674100> has the same name 'LSTMCell' as a built-in Keras object. Consider renaming <class 'keras.layers.recurrent.LSTMCell'> to avoid naming conflicts when loading with `tf.keras.models.load_model`. If renaming is not possible, pass the object in the `custom_objects` parameter of the load function.\n"
     ]
    },
    {
     "name": "stdout",
     "output_type": "stream",
     "text": [
      "INFO:tensorflow:Assets written to: model_experiments/model_5_lstm/assets\n"
     ]
    },
    {
     "name": "stderr",
     "output_type": "stream",
     "text": [
      "INFO:tensorflow:Assets written to: model_experiments/model_5_lstm/assets\n",
      "WARNING:absl:<keras.layers.recurrent.LSTMCell object at 0x168674100> has the same name 'LSTMCell' as a built-in Keras object. Consider renaming <class 'keras.layers.recurrent.LSTMCell'> to avoid naming conflicts when loading with `tf.keras.models.load_model`. If renaming is not possible, pass the object in the `custom_objects` parameter of the load function.\n"
     ]
    },
    {
     "name": "stdout",
     "output_type": "stream",
     "text": [
      "INFO:tensorflow:Assets written to: model_experiments/model_5_lstm/assets\n"
     ]
    },
    {
     "name": "stderr",
     "output_type": "stream",
     "text": [
      "INFO:tensorflow:Assets written to: model_experiments/model_5_lstm/assets\n",
      "WARNING:absl:<keras.layers.recurrent.LSTMCell object at 0x168674100> has the same name 'LSTMCell' as a built-in Keras object. Consider renaming <class 'keras.layers.recurrent.LSTMCell'> to avoid naming conflicts when loading with `tf.keras.models.load_model`. If renaming is not possible, pass the object in the `custom_objects` parameter of the load function.\n"
     ]
    },
    {
     "name": "stdout",
     "output_type": "stream",
     "text": [
      "INFO:tensorflow:Assets written to: model_experiments/model_5_lstm/assets\n"
     ]
    },
    {
     "name": "stderr",
     "output_type": "stream",
     "text": [
      "INFO:tensorflow:Assets written to: model_experiments/model_5_lstm/assets\n",
      "WARNING:absl:<keras.layers.recurrent.LSTMCell object at 0x168674100> has the same name 'LSTMCell' as a built-in Keras object. Consider renaming <class 'keras.layers.recurrent.LSTMCell'> to avoid naming conflicts when loading with `tf.keras.models.load_model`. If renaming is not possible, pass the object in the `custom_objects` parameter of the load function.\n"
     ]
    },
    {
     "name": "stdout",
     "output_type": "stream",
     "text": [
      "INFO:tensorflow:Assets written to: model_experiments/model_5_lstm/assets\n"
     ]
    },
    {
     "name": "stderr",
     "output_type": "stream",
     "text": [
      "INFO:tensorflow:Assets written to: model_experiments/model_5_lstm/assets\n",
      "WARNING:absl:<keras.layers.recurrent.LSTMCell object at 0x168674100> has the same name 'LSTMCell' as a built-in Keras object. Consider renaming <class 'keras.layers.recurrent.LSTMCell'> to avoid naming conflicts when loading with `tf.keras.models.load_model`. If renaming is not possible, pass the object in the `custom_objects` parameter of the load function.\n"
     ]
    },
    {
     "name": "stdout",
     "output_type": "stream",
     "text": [
      "INFO:tensorflow:Assets written to: model_experiments/model_5_lstm/assets\n"
     ]
    },
    {
     "name": "stderr",
     "output_type": "stream",
     "text": [
      "INFO:tensorflow:Assets written to: model_experiments/model_5_lstm/assets\n",
      "WARNING:absl:<keras.layers.recurrent.LSTMCell object at 0x168674100> has the same name 'LSTMCell' as a built-in Keras object. Consider renaming <class 'keras.layers.recurrent.LSTMCell'> to avoid naming conflicts when loading with `tf.keras.models.load_model`. If renaming is not possible, pass the object in the `custom_objects` parameter of the load function.\n"
     ]
    },
    {
     "name": "stdout",
     "output_type": "stream",
     "text": [
      "INFO:tensorflow:Assets written to: model_experiments/model_5_lstm/assets\n"
     ]
    },
    {
     "name": "stderr",
     "output_type": "stream",
     "text": [
      "INFO:tensorflow:Assets written to: model_experiments/model_5_lstm/assets\n",
      "WARNING:absl:<keras.layers.recurrent.LSTMCell object at 0x168674100> has the same name 'LSTMCell' as a built-in Keras object. Consider renaming <class 'keras.layers.recurrent.LSTMCell'> to avoid naming conflicts when loading with `tf.keras.models.load_model`. If renaming is not possible, pass the object in the `custom_objects` parameter of the load function.\n"
     ]
    },
    {
     "data": {
      "text/plain": [
       "<keras.callbacks.History at 0x16863f7c0>"
      ]
     },
     "execution_count": 60,
     "metadata": {},
     "output_type": "execute_result"
    }
   ],
   "source": [
    "tf.random.set_seed(42)\n",
    "\n",
    "# Let's build an LSTM model with the Functional API\n",
    "inputs = layers.Input(shape=(WINDOW_SIZE))\n",
    "x = layers.Lambda(lambda x: tf.expand_dims(x, axis=1))(inputs) # expand input dimension to be compatible with LSTM\n",
    "# print(x.shape)\n",
    "# x = layers.LSTM(128, activation=\"relu\", return_sequences=True)(x) # this layer will error if the inputs are not the right shape\n",
    "x = layers.LSTM(128, activation=\"relu\")(x) # using the tanh loss function results in a massive error\n",
    "# print(x.shape)\n",
    "# Add another optional dense layer (you could add more of these to see if they improve model performance)\n",
    "# x = layers.Dense(32, activation=\"relu\")(x)\n",
    "output = layers.Dense(HORIZON)(x)\n",
    "model_5 = tf.keras.Model(inputs=inputs, outputs=output, name=\"model_5_lstm\")\n",
    "\n",
    "# Compile model\n",
    "model_5.compile(loss=\"mae\",\n",
    "                optimizer=tf.keras.optimizers.Adam())\n",
    "\n",
    "# Seems when saving the model several warnings are appearing: https://github.com/tensorflow/tensorflow/issues/47554 \n",
    "model_5.fit(train_windows,\n",
    "            train_labels,\n",
    "            epochs=100,\n",
    "            verbose=0,\n",
    "            batch_size=128,\n",
    "            validation_data=(test_windows, test_labels),\n",
    "            callbacks=[create_model_checkpoint(model_name=model_5.name)])"
   ]
  },
  {
   "cell_type": "code",
   "execution_count": 61,
   "metadata": {},
   "outputs": [
    {
     "name": "stdout",
     "output_type": "stream",
     "text": [
      "18/18 [==============================] - 0s 911us/step - loss: 670.0064\n"
     ]
    },
    {
     "data": {
      "text/plain": [
       "670.0064086914062"
      ]
     },
     "execution_count": 61,
     "metadata": {},
     "output_type": "execute_result"
    }
   ],
   "source": [
    "# Load in best version of model 5 and evaluate on the test data\n",
    "model_5 = tf.keras.models.load_model(\"model_experiments/model_5_lstm/\")\n",
    "model_5.evaluate(test_windows, test_labels)"
   ]
  },
  {
   "cell_type": "code",
   "execution_count": 63,
   "metadata": {},
   "outputs": [
    {
     "data": {
      "text/plain": [
       "<tf.Tensor: shape=(10,), dtype=float32, numpy=\n",
       "array([8877.626 , 8922.556 , 8905.757 , 8703.976 , 8499.313 , 8506.665 ,\n",
       "       8291.202 , 8176.575 , 8134.444 , 7815.8643], dtype=float32)>"
      ]
     },
     "execution_count": 63,
     "metadata": {},
     "output_type": "execute_result"
    }
   ],
   "source": [
    "# Make predictions with our LSTM model\n",
    "model_5_preds = make_preds(model_5, test_windows)\n",
    "model_5_preds[:10]"
   ]
  },
  {
   "cell_type": "code",
   "execution_count": 64,
   "metadata": {},
   "outputs": [
    {
     "data": {
      "text/plain": [
       "{'mae': 670.0064,\n",
       " 'mse': 1532468.2,\n",
       " 'rmse': 1237.9291,\n",
       " 'mape': 3.0391085,\n",
       " 'mase': 1.1711776}"
      ]
     },
     "execution_count": 64,
     "metadata": {},
     "output_type": "execute_result"
    }
   ],
   "source": [
    "# Evaluate model 5 preds\n",
    "model_5_results = evaluate_preds(y_true=tf.squeeze(test_labels),\n",
    "                                 y_pred=model_5_preds)\n",
    "model_5_results"
   ]
  }
 ],
 "metadata": {
  "kernelspec": {
   "display_name": "Python 3.8.9 ('venv': venv)",
   "language": "python",
   "name": "python3"
  },
  "language_info": {
   "codemirror_mode": {
    "name": "ipython",
    "version": 3
   },
   "file_extension": ".py",
   "mimetype": "text/x-python",
   "name": "python",
   "nbconvert_exporter": "python",
   "pygments_lexer": "ipython3",
   "version": "3.8.9"
  },
  "orig_nbformat": 4,
  "vscode": {
   "interpreter": {
    "hash": "c9864355dd93ab20d4e3408f8fe9e92a27fc5b675de245446a36fefcf676fab5"
   }
  }
 },
 "nbformat": 4,
 "nbformat_minor": 2
}
